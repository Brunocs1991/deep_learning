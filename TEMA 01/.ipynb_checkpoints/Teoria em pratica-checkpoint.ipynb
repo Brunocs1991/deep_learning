{
 "cells": [
  {
   "cell_type": "markdown",
   "id": "84ee9ce5",
   "metadata": {},
   "source": [
    "# Reflita sobre a seguinte situação"
   ]
  },
  {
   "cell_type": "markdown",
   "id": "017cf496",
   "metadata": {},
   "source": [
    "<p>\n",
    "    Você é o cientista de dados de uma grande organização e foi designado para projetar a rede neural que será treinada para identificar quando um e-mail recebido no servidor da empresa é considerado spam. O filtro de spam é um problema comumente solucionado com a técnica de classificação binária: a partir de um determinado número de atributos de entrada, o classificador pode gerar as saídas verdadeiro ou falso, normalmente representadas pelos valores um ou zero.\n",
    "</p>\n",
    "\n",
    "<ul>\n",
    "    <li>\n",
    "        Implemente o código-fonte referente ao projeto da rede neural para solucionar o problema do filtro de spam.\n",
    "    </li>    \n",
    "    <li>\n",
    "        O conjunto de dados de treinamento possui 14 atributos de entrada; a camada de entrada possui 32 neurônios e função de ativação ReLU.\n",
    "    </li>    \n",
    "    <li>\n",
    "        A camada de saída possui apenas um neurônio, e a função de ativação deve ser a tipicamente usada na classificação binária. \n",
    "    </li>   \n",
    "    <li>\n",
    "        A arquitetura da rede deve possuir uma função de otimização do tipo Root Mean Square Propagation.\n",
    "    </li>    \n",
    "    <li>\n",
    "        A rede neural deve ser configurada com a função de perda (custo) tipicamente usada em problemas de classificação binária.\n",
    "    </li>\n",
    "        A arquitetura da rede deve possuir uma função de otimização do tipo Root Mean Square Propagation.\n",
    "    <li>\n",
    "        Por fim, a métrica usada para avaliar o desempenho da rede deve ser a acurácia.\n",
    "    </li>\n",
    "</ul>"
   ]
  },
  {
   "cell_type": "code",
   "execution_count": 2,
   "id": "0a19a5fb",
   "metadata": {},
   "outputs": [],
   "source": [
    "#Carrega as bibliotecas\n",
    "import numpy as np\n",
    "import keras.data"
   ]
  },
  {
   "cell_type": "code",
   "execution_count": null,
   "id": "2c6c6230",
   "metadata": {},
   "outputs": [],
   "source": []
  }
 ],
 "metadata": {
  "kernelspec": {
   "display_name": "Python 3 (ipykernel)",
   "language": "python",
   "name": "python3"
  },
  "language_info": {
   "codemirror_mode": {
    "name": "ipython",
    "version": 3
   },
   "file_extension": ".py",
   "mimetype": "text/x-python",
   "name": "python",
   "nbconvert_exporter": "python",
   "pygments_lexer": "ipython3",
   "version": "3.9.13"
  }
 },
 "nbformat": 4,
 "nbformat_minor": 5
}
