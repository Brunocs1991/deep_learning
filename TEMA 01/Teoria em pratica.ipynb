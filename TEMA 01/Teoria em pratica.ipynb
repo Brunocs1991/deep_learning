{
 "cells": [
  {
   "cell_type": "markdown",
   "id": "84ee9ce5",
   "metadata": {},
   "source": [
    "# Reflita sobre a seguinte situação"
   ]
  },
  {
   "cell_type": "markdown",
   "id": "017cf496",
   "metadata": {},
   "source": [
    "<p>\n",
    "    Você é o cientista de dados de uma grande organização e foi designado para projetar a rede neural que será treinada para identificar quando um e-mail recebido no servidor da empresa é considerado spam. O filtro de spam é um problema comumente solucionado com a técnica de classificação binária: a partir de um determinado número de atributos de entrada, o classificador pode gerar as saídas verdadeiro ou falso, normalmente representadas pelos valores um ou zero.\n",
    "</p>\n",
    "\n",
    "<ul>\n",
    "    <li>\n",
    "        Implemente o código-fonte referente ao projeto da rede neural para solucionar o problema do filtro de spam.\n",
    "    </li>    \n",
    "    <li>\n",
    "        O conjunto de dados de treinamento possui 14 atributos de entrada; a camada de entrada possui 32 neurônios e função de ativação ReLU.\n",
    "    </li>    \n",
    "    <li>\n",
    "        A camada de saída possui apenas um neurônio, e a função de ativação deve ser a tipicamente usada na classificação binária. \n",
    "    </li>   \n",
    "    <li>\n",
    "        A arquitetura da rede deve possuir uma função de otimização do tipo Root Mean Square Propagation.\n",
    "    </li>    \n",
    "    <li>\n",
    "        A rede neural deve ser configurada com a função de perda (custo) tipicamente usada em problemas de classificação binária.\n",
    "    </li>\n",
    "        A arquitetura da rede deve possuir uma função de otimização do tipo Root Mean Square Propagation.\n",
    "    <li>\n",
    "        Por fim, a métrica usada para avaliar o desempenho da rede deve ser a acurácia.\n",
    "    </li>\n",
    "</ul>"
   ]
  },
  {
   "cell_type": "code",
   "execution_count": 1,
   "id": "0a19a5fb",
   "metadata": {},
   "outputs": [],
   "source": [
    "#Carrega as bibliotecas\n",
    "import numpy as np\n",
    "from keras.datasets import imdb\n",
    "from keras.preprocessing.text import Tokenizer\n",
    "from keras import models\n",
    "from keras import layers\n",
    "import warnings\n",
    "warnings.filterwarnings('ignore')"
   ]
  },
  {
   "cell_type": "code",
   "execution_count": 2,
   "id": "2c6c6230",
   "metadata": {},
   "outputs": [],
   "source": [
    "# Resetar o gerador de números randômicos\n",
    "np.random.seed(0)"
   ]
  },
  {
   "cell_type": "code",
   "execution_count": 3,
   "id": "7b372e6e-7034-4e31-8b60-5d6a1c7ab317",
   "metadata": {},
   "outputs": [],
   "source": [
    "# Definir o número de atributos (Features)\n",
    "number_of_features = 14"
   ]
  },
  {
   "cell_type": "code",
   "execution_count": 4,
   "id": "4002361f-57cf-45ba-8b83-592f0b6826ee",
   "metadata": {},
   "outputs": [],
   "source": [
    "# Instanciar a rede neural\n",
    "network = models.Sequential()"
   ]
  },
  {
   "cell_type": "code",
   "execution_count": 5,
   "id": "d113ee18-4edc-472a-b98c-1657865a127e",
   "metadata": {},
   "outputs": [],
   "source": [
    "# Adicionar a primeira camada com função de ativação ReLU\n",
    "network.add(layers.Dense(units=32, activation=\"relu\", input_shape=(number_of_features,)))"
   ]
  },
  {
   "cell_type": "code",
   "execution_count": 6,
   "id": "9b386c13-d97d-47e8-b102-d78c35d47b79",
   "metadata": {},
   "outputs": [],
   "source": [
    "# Adicionar a segunda camada com função de ativação ReLU\n",
    "network.add(layers.Dense(units=64, activation=\"relu\"))"
   ]
  },
  {
   "cell_type": "code",
   "execution_count": 7,
   "id": "e00d3364-e8cc-4c66-b982-2fd5d59e1444",
   "metadata": {},
   "outputs": [],
   "source": [
    "# Adicionar a terceira camada com função de ativação Relu\n",
    "network.add(layers.Dense(units=32, activation=\"relu\"))"
   ]
  },
  {
   "cell_type": "code",
   "execution_count": 8,
   "id": "2e71197c-454f-456b-9558-60631a654e11",
   "metadata": {},
   "outputs": [],
   "source": [
    "# Adicionar a quarta cada com função de ativação sigmoid\n",
    "network.add(layers.Dense(units=1, activation=\"sigmoid\"))"
   ]
  },
  {
   "cell_type": "code",
   "execution_count": 9,
   "id": "fab22885-418c-4d46-ad72-0b70950eaff3",
   "metadata": {},
   "outputs": [],
   "source": [
    "# Compilar a rede neural\n",
    "network.compile(loss=\"binary_crossentropy\", # função de perda cross-entropy\n",
    "               optimizer=\"rmsprop\", # função de otimização Root Meam Square Propagation\n",
    "               metrics=['accuracy']) # Usar acurácia como métrica de desempenho"
   ]
  },
  {
   "cell_type": "code",
   "execution_count": null,
   "id": "480fcd0c-d858-4e2a-984f-b478658d37c6",
   "metadata": {},
   "outputs": [],
   "source": []
  }
 ],
 "metadata": {
  "kernelspec": {
   "display_name": "Python 3 (ipykernel)",
   "language": "python",
   "name": "python3"
  },
  "language_info": {
   "codemirror_mode": {
    "name": "ipython",
    "version": 3
   },
   "file_extension": ".py",
   "mimetype": "text/x-python",
   "name": "python",
   "nbconvert_exporter": "python",
   "pygments_lexer": "ipython3",
   "version": "3.9.13"
  }
 },
 "nbformat": 4,
 "nbformat_minor": 5
}
