{
 "cells": [
  {
   "cell_type": "markdown",
   "id": "2fab64e7",
   "metadata": {},
   "source": [
    "# Pré-processamento dos dados para Redes Neurais"
   ]
  },
  {
   "cell_type": "code",
   "execution_count": 1,
   "id": "7464adb5",
   "metadata": {},
   "outputs": [],
   "source": [
    "# Carrega as bibliotecas\n",
    "from sklearn import preprocessing\n",
    "import numpy as np"
   ]
  },
  {
   "cell_type": "code",
   "execution_count": 2,
   "id": "66a055cc",
   "metadata": {},
   "outputs": [],
   "source": [
    "# Cria um atributo\n",
    "features = np.array([[-100.1, 3240.1],\n",
    "                    [-200.2, -234.1],\n",
    "                    [5000.5, 150.1],\n",
    "                    [6000.6, -125.1],\n",
    "                    [9000.9, -673.1]])"
   ]
  },
  {
   "cell_type": "code",
   "execution_count": 3,
   "id": "b90f8982-dfae-40c4-91c8-c48efc594820",
   "metadata": {},
   "outputs": [
    {
     "data": {
      "text/plain": [
       "array([[-100.1, 3240.1],\n",
       "       [-200.2, -234.1],\n",
       "       [5000.5,  150.1],\n",
       "       [6000.6, -125.1],\n",
       "       [9000.9, -673.1]])"
      ]
     },
     "execution_count": 3,
     "metadata": {},
     "output_type": "execute_result"
    }
   ],
   "source": [
    "features"
   ]
  },
  {
   "cell_type": "code",
   "execution_count": 4,
   "id": "2685c7b7-9a30-4535-b62d-971b5e1061d1",
   "metadata": {},
   "outputs": [],
   "source": [
    "# Cria o objeto scaler\n",
    "scaler = preprocessing.StandardScaler()"
   ]
  },
  {
   "cell_type": "code",
   "execution_count": 5,
   "id": "61e9a3fb-f81f-4448-acc3-c0709543de8a",
   "metadata": {},
   "outputs": [],
   "source": [
    "# Transforma o atributo\n",
    "features_standardized = scaler.fit_transform(features)"
   ]
  },
  {
   "cell_type": "code",
   "execution_count": 7,
   "id": "ba269f9d-8789-45cb-9ddb-05d97420c981",
   "metadata": {},
   "outputs": [
    {
     "data": {
      "text/plain": [
       "array([[-1.12541308,  1.96429418],\n",
       "       [-1.15329466, -0.50068741],\n",
       "       [ 0.29529406, -0.22809346],\n",
       "       [ 0.57385917, -0.42335076],\n",
       "       [ 1.40955451, -0.81216255]])"
      ]
     },
     "execution_count": 7,
     "metadata": {},
     "output_type": "execute_result"
    }
   ],
   "source": [
    "# Mostra o atributo\n",
    "features_standardized"
   ]
  },
  {
   "cell_type": "code",
   "execution_count": null,
   "id": "de167369-fd09-46f1-8eff-063f37b26510",
   "metadata": {},
   "outputs": [],
   "source": []
  }
 ],
 "metadata": {
  "kernelspec": {
   "display_name": "Python 3 (ipykernel)",
   "language": "python",
   "name": "python3"
  },
  "language_info": {
   "codemirror_mode": {
    "name": "ipython",
    "version": 3
   },
   "file_extension": ".py",
   "mimetype": "text/x-python",
   "name": "python",
   "nbconvert_exporter": "python",
   "pygments_lexer": "ipython3",
   "version": "3.9.13"
  }
 },
 "nbformat": 4,
 "nbformat_minor": 5
}
