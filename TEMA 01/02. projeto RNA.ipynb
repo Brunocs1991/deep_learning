{
 "cells": [
  {
   "cell_type": "markdown",
   "id": "3d457af7-f8f6-4b83-ba05-92cab4e47689",
   "metadata": {},
   "source": [
    "## Projetando uma rede Neural Artificial"
   ]
  },
  {
   "cell_type": "code",
   "execution_count": 1,
   "id": "b37f1e6c-9a44-4b1c-8d3b-7c68f1d98cec",
   "metadata": {},
   "outputs": [],
   "source": [
    "# Bibliotecas nescessarias\n",
    "# pip install keras\n",
    "# pip install tensorflow"
   ]
  },
  {
   "cell_type": "code",
   "execution_count": 2,
   "id": "208cd028-c308-4594-9624-1e5d44ec64f0",
   "metadata": {},
   "outputs": [],
   "source": [
    "# Carrega bibliotecas\n",
    "from keras import models\n",
    "from keras import layers"
   ]
  },
  {
   "cell_type": "code",
   "execution_count": 3,
   "id": "eeee6f41-8061-415a-9df4-b88478eb0a3f",
   "metadata": {},
   "outputs": [],
   "source": [
    "# Instanciar uma rede neural\n",
    "network = models.Sequential()"
   ]
  },
  {
   "cell_type": "code",
   "execution_count": 4,
   "id": "e19cd129-02e2-45d9-a611-1616941ff977",
   "metadata": {},
   "outputs": [],
   "source": [
    "# Adicionar uma camada totalmente conectada,\n",
    "# com função de  ativação RelU\n",
    "network.add(layers.Dense(units=16, activation=\"relu\", input_shape=(10,)))"
   ]
  },
  {
   "cell_type": "code",
   "execution_count": 5,
   "id": "3a8f0a95-9805-48b8-a686-61cf2f5f0a68",
   "metadata": {},
   "outputs": [],
   "source": [
    "# Adicionar uma segunda camada totalmente conectada,\n",
    "# com função de  ativação RelU\n",
    "network.add(layers.Dense(units=16, activation=\"relu\"))"
   ]
  },
  {
   "cell_type": "code",
   "execution_count": 6,
   "id": "1edf0b87-d9de-458a-ae41-8028a59efeb7",
   "metadata": {},
   "outputs": [],
   "source": [
    "# Adicionar uma terceira camada totalmente conectada,\n",
    "# com função de  ativação simoid\n",
    "network.add(layers.Dense(units=1, activation=\"sigmoid\"))"
   ]
  },
  {
   "cell_type": "code",
   "execution_count": 7,
   "id": "9b7f6866-7360-49ae-b324-dc54bc195634",
   "metadata": {},
   "outputs": [],
   "source": [
    "#Compilar a rede neural\n",
    "network.compile(loss=\"binary_crossentropy\", # Cross-entropy\n",
    "                optimizer=\"rmsprop\", # Root Mean Square Propagation\n",
    "                metrics=[\"accuracy\"]) # Acuracia como metrica de desempenho"
   ]
  }
 ],
 "metadata": {
  "kernelspec": {
   "display_name": "Python 3 (ipykernel)",
   "language": "python",
   "name": "python3"
  },
  "language_info": {
   "codemirror_mode": {
    "name": "ipython",
    "version": 3
   },
   "file_extension": ".py",
   "mimetype": "text/x-python",
   "name": "python",
   "nbconvert_exporter": "python",
   "pygments_lexer": "ipython3",
   "version": "3.9.13"
  }
 },
 "nbformat": 4,
 "nbformat_minor": 5
}
