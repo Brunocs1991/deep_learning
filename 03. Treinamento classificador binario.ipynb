{
 "cells": [
  {
   "cell_type": "code",
   "execution_count": 1,
   "id": "77ec4d0e-1b26-4970-8b8d-d25a405003ba",
   "metadata": {},
   "outputs": [],
   "source": [
    "#Carregando as bibliotecas\n",
    "import numpy as np\n",
    "import matplotlib.pyplot as plt\n",
    "from keras.datasets import imdb\n",
    "from keras.preprocessing.text import Tokenizer\n",
    "from keras import models\n",
    "from keras import layers\n",
    "import warnings\n",
    "warnings.filterwarnings('ignore')"
   ]
  },
  {
   "cell_type": "code",
   "execution_count": 2,
   "id": "9fd93458-01d3-454a-bae1-c4a2e5345797",
   "metadata": {},
   "outputs": [],
   "source": [
    "# Resetar o gerador de numeros randômicos\n",
    "np.random.seed(0)"
   ]
  },
  {
   "cell_type": "code",
   "execution_count": 3,
   "id": "797d0e1b-2511-4eb6-8c33-0360740f958d",
   "metadata": {},
   "outputs": [],
   "source": [
    "# Definir o número de atributos (features)\n",
    "number_of_features = 1000"
   ]
  },
  {
   "cell_type": "code",
   "execution_count": 4,
   "id": "940f3ff4-1f69-4652-8617-4162ee014f78",
   "metadata": {},
   "outputs": [],
   "source": [
    "# Carregar os dados (conjunto de dados de avaliacao de filmes)\n",
    "(data_train, target_train), (data_test, target_test) = imdb.load_data(num_words=number_of_features)"
   ]
  },
  {
   "cell_type": "code",
   "execution_count": 5,
   "id": "644a89a3-7890-4946-9b91-6eee18336f31",
   "metadata": {},
   "outputs": [],
   "source": [
    "# Converter o formato de dados para matriz de features\n",
    "tokenizer = Tokenizer(num_words=number_of_features)\n",
    "features_train = tokenizer.sequences_to_matrix(data_train, mode=\"binary\")\n",
    "features_test = tokenizer.sequences_to_matrix(data_test, mode=\"binary\")"
   ]
  },
  {
   "cell_type": "code",
   "execution_count": 6,
   "id": "8789e01e-0a6e-4c5d-8f1d-0ce8c48028d9",
   "metadata": {},
   "outputs": [],
   "source": [
    "# Instancia a rede neural\n",
    "network = models.Sequential()"
   ]
  },
  {
   "cell_type": "code",
   "execution_count": 7,
   "id": "a15d993b-2dd9-4a76-a512-76553ad36216",
   "metadata": {},
   "outputs": [],
   "source": [
    "# Adicionar a primeira camada com a função de ativacao Relu\n",
    "network.add(layers.Dense(units=16, activation=\"relu\", input_shape=(number_of_features,)))"
   ]
  },
  {
   "cell_type": "code",
   "execution_count": 8,
   "id": "2aaba686-6752-4d0b-84d5-45d72ba6fbc5",
   "metadata": {},
   "outputs": [],
   "source": [
    "# Adiciona a segunda camada com a função de ativação Relu\n",
    "network.add(layers.Dense(units=16, activation=\"relu\"))"
   ]
  },
  {
   "cell_type": "code",
   "execution_count": 9,
   "id": "ee2de7e8-41e8-4869-9e09-1aa16008c297",
   "metadata": {},
   "outputs": [],
   "source": [
    "# Adiciona a terceira camada coma função de ativação sigmoid\n",
    "network.add(layers.Dense(units=1, activation=\"sigmoid\"))"
   ]
  },
  {
   "cell_type": "code",
   "execution_count": 10,
   "id": "b1cd4815-568b-4017-9e88-8956d6f992f0",
   "metadata": {},
   "outputs": [],
   "source": [
    "#Compilar a rede neural\n",
    "network.compile(loss=\"binary_crossentropy\", # Cross-entropy\n",
    "                optimizer=\"rmsprop\", # Root Mean Square Propagation\n",
    "                metrics=[\"accuracy\"]) # Acuracia como metrica de desempenho"
   ]
  },
  {
   "cell_type": "code",
   "execution_count": 11,
   "id": "41f59782-c86a-407e-abfc-cacf6481e1fb",
   "metadata": {},
   "outputs": [
    {
     "name": "stdout",
     "output_type": "stream",
     "text": [
      "Epoch 1/3\n",
      "250/250 [==============================] - 4s 8ms/step - loss: 0.4381 - accuracy: 0.8032 - val_loss: 0.3371 - val_accuracy: 0.8569\n",
      "Epoch 2/3\n",
      "250/250 [==============================] - 1s 5ms/step - loss: 0.3235 - accuracy: 0.8654 - val_loss: 0.3286 - val_accuracy: 0.8591\n",
      "Epoch 3/3\n",
      "250/250 [==============================] - 1s 5ms/step - loss: 0.3129 - accuracy: 0.8696 - val_loss: 0.3475 - val_accuracy: 0.8495\n"
     ]
    }
   ],
   "source": [
    "#Treinar a rede neural\n",
    "history = network.fit(features_train, # Atributos\n",
    "                      target_train, # Classes\n",
    "                      epochs=3, # Número de época\n",
    "                      verbose=1, # Imprimir informações de cada época\n",
    "                      batch_size=100, #Número de observações a cada mini-lote\n",
    "                      validation_data=(features_test, target_test)) #Dados de teste"
   ]
  },
  {
   "cell_type": "code",
   "execution_count": 12,
   "id": "f5b44389-8f7c-4100-9f1a-c72887f0d85f",
   "metadata": {},
   "outputs": [
    {
     "data": {
      "image/png": "[encoded data removed]",
      "text/plain": [
       "<Figure size 800x500 with 1 Axes>"
      ]
     },
     "metadata": {},
     "output_type": "display_data"
    }
   ],
   "source": [
    "import pandas as pd\n",
    "\n",
    "pd.DataFrame(history.history).plot(figsize=(8, 5))\n",
    "plt.grid(True)\n",
    "plt.gca().set_ylim(0, 1)\n",
    "plt.show()"
   ]
  },
  {
   "cell_type": "code",
   "execution_count": null,
   "id": "343100e1-e6de-493d-a492-fd9a6be78c3f",
   "metadata": {},
   "outputs": [],
   "source": []
  }
 ],
 "metadata": {
  "kernelspec": {
   "display_name": "Python 3 (ipykernel)",
   "language": "python",
   "name": "python3"
  },
  "language_info": {
   "codemirror_mode": {
    "name": "ipython",
    "version": 3
   },
   "file_extension": ".py",
   "mimetype": "text/x-python",
   "name": "python",
   "nbconvert_exporter": "python",
   "pygments_lexer": "ipython3",
   "version": "3.9.13"
  }
 },
 "nbformat": 4,
 "nbformat_minor": 5
}
