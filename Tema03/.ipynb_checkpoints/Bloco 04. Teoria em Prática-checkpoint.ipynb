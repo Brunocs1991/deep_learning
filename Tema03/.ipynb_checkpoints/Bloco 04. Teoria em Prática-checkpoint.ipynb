{
 "cells": [
  {
   "cell_type": "markdown",
   "metadata": {},
   "source": [
    "# Teoria em Prática"
   ]
  },
  {
   "cell_type": "code",
   "execution_count": 1,
   "metadata": {},
   "outputs": [],
   "source": [
    "# Python ≥3.5 é necessário\n",
    "import sys\n",
    "assert sys.version_info >= (3, 5)\n",
    "\n",
    "# Scikit-Learn ≥0.20 é necessário\n",
    "import sklearn\n",
    "assert sklearn.__version__ >= \"0.20\"\n",
    "\n",
    "try:\n",
    "    %tensorflow_version 2.x\n",
    "except Exception:\n",
    "    pass\n",
    "\n",
    "# TensorFlow ≥2.0 é necessário\n",
    "import tensorflow as tf\n",
    "from tensorflow import keras\n",
    "assert tf.__version__ >= \"2.0\"\n",
    "\n",
    "# imports comuns\n",
    "import numpy as np\n",
    "import os\n",
    "\n",
    "# tornar os resultados reproduzíveis\n",
    "np.random.seed(42)\n",
    "tf.random.set_seed(42)\n",
    "\n",
    "# To plot pretty figures\n",
    "%matplotlib inline\n",
    "import matplotlib as mpl\n",
    "import matplotlib.pyplot as plt\n",
    "mpl.rc('axes', labelsize=14)\n",
    "mpl.rc('xtick', labelsize=12)\n",
    "mpl.rc('ytick', labelsize=12)"
   ]
  },
  {
   "cell_type": "code",
   "execution_count": 2,
   "metadata": {},
   "outputs": [],
   "source": [
    "def plot_image(image):\n",
    "    plt.imshow(image, cmap=\"gray\", interpolation=\"nearest\")\n",
    "    plt.axis(\"off\")\n",
    "\n",
    "def plot_color_image(image):\n",
    "    plt.imshow(image, interpolation=\"nearest\")\n",
    "    plt.axis(\"off\")"
   ]
  },
  {
   "cell_type": "markdown",
   "metadata": {},
   "source": [
    "## Buscando alta acurácia utilizando CNN no _dataset_ MNIST"
   ]
  },
  {
   "cell_type": "code",
   "execution_count": 3,
   "metadata": {},
   "outputs": [],
   "source": [
    "import numpy as np\n",
    "import tensorflow as tf\n",
    "from tensorflow import keras\n",
    "\n",
    "(X_train_full, y_train_full), (X_test, y_test) = keras.datasets.mnist.load_data()\n",
    "X_train_full = X_train_full / 255.\n",
    "X_test = X_test / 255.\n",
    "X_train, X_valid = X_train_full[:-5000], X_train_full[-5000:]\n",
    "y_train, y_valid = y_train_full[:-5000], y_train_full[-5000:]\n",
    "\n",
    "X_train = X_train[..., np.newaxis]\n",
    "X_valid = X_valid[..., np.newaxis]\n",
    "X_test = X_test[..., np.newaxis]"
   ]
  },
  {
   "cell_type": "code",
   "execution_count": 4,
   "metadata": {},
   "outputs": [
    {
     "name": "stdout",
     "output_type": "stream",
     "text": [
      "Epoch 1/10\n",
      "1719/1719 [==============================] - 145s 84ms/step - loss: 0.1946 - accuracy: 0.9412 - val_loss: 0.0494 - val_accuracy: 0.9872\n",
      "Epoch 2/10\n",
      "1719/1719 [==============================] - 147s 86ms/step - loss: 0.0834 - accuracy: 0.9748 - val_loss: 0.0502 - val_accuracy: 0.9858\n",
      "Epoch 3/10\n",
      "1719/1719 [==============================] - 148s 86ms/step - loss: 0.0633 - accuracy: 0.9817 - val_loss: 0.0366 - val_accuracy: 0.9910\n",
      "Epoch 4/10\n",
      "1719/1719 [==============================] - 147s 85ms/step - loss: 0.0494 - accuracy: 0.9851 - val_loss: 0.0304 - val_accuracy: 0.9916\n",
      "Epoch 5/10\n",
      "1719/1719 [==============================] - 148s 86ms/step - loss: 0.0427 - accuracy: 0.9865 - val_loss: 0.0319 - val_accuracy: 0.9908\n",
      "Epoch 6/10\n",
      "1719/1719 [==============================] - 147s 86ms/step - loss: 0.0388 - accuracy: 0.9878 - val_loss: 0.0349 - val_accuracy: 0.9912\n",
      "Epoch 7/10\n",
      "1719/1719 [==============================] - 146s 85ms/step - loss: 0.0327 - accuracy: 0.9894 - val_loss: 0.0321 - val_accuracy: 0.9926\n",
      "Epoch 8/10\n",
      "1719/1719 [==============================] - 146s 85ms/step - loss: 0.0302 - accuracy: 0.9897 - val_loss: 0.0391 - val_accuracy: 0.9914\n",
      "Epoch 9/10\n",
      "1719/1719 [==============================] - 147s 86ms/step - loss: 0.0253 - accuracy: 0.9917 - val_loss: 0.0340 - val_accuracy: 0.9912\n",
      "Epoch 10/10\n",
      "1719/1719 [==============================] - 150s 87ms/step - loss: 0.0255 - accuracy: 0.9919 - val_loss: 0.0334 - val_accuracy: 0.9924\n",
      "313/313 [==============================] - 7s 21ms/step - loss: 0.0264 - accuracy: 0.9926\n"
     ]
    },
    {
     "data": {
      "text/plain": [
       "[0.02636711113154888, 0.9926000237464905]"
      ]
     },
     "execution_count": 4,
     "metadata": {},
     "output_type": "execute_result"
    }
   ],
   "source": [
    "keras.backend.clear_session()\n",
    "tf.random.set_seed(42)\n",
    "np.random.seed(42)\n",
    "\n",
    "model = keras.models.Sequential([\n",
    "    keras.layers.Conv2D(32, kernel_size=3, padding=\"same\", activation=\"relu\"),\n",
    "    keras.layers.Conv2D(64, kernel_size=3, padding=\"same\", activation=\"relu\"),\n",
    "    keras.layers.MaxPool2D(),\n",
    "    keras.layers.Flatten(),\n",
    "    keras.layers.Dropout(0.25),\n",
    "    keras.layers.Dense(128, activation=\"relu\"),\n",
    "    keras.layers.Dropout(0.5),\n",
    "    keras.layers.Dense(10, activation=\"softmax\")\n",
    "])\n",
    "model.compile(loss=\"sparse_categorical_crossentropy\", optimizer=\"nadam\",\n",
    "              metrics=[\"accuracy\"])\n",
    "\n",
    "model.fit(X_train, y_train, epochs=10, validation_data=(X_valid, y_valid))\n",
    "model.evaluate(X_test, y_test)"
   ]
  }
 ],
 "metadata": {
  "kernelspec": {
   "display_name": "Python 3 (ipykernel)",
   "language": "python",
   "name": "python3"
  },
  "language_info": {
   "codemirror_mode": {
    "name": "ipython",
    "version": 3
   },
   "file_extension": ".py",
   "mimetype": "text/x-python",
   "name": "python",
   "nbconvert_exporter": "python",
   "pygments_lexer": "ipython3",
   "version": "3.9.13"
  },
  "nav_menu": {},
  "toc": {
   "navigate_menu": true,
   "number_sections": true,
   "sideBar": true,
   "threshold": 6,
   "toc_cell": false,
   "toc_section_display": "block",
   "toc_window_display": false
  }
 },
 "nbformat": 4,
 "nbformat_minor": 4
}
