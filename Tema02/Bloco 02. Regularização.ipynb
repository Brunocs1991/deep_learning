{
 "cells": [
  {
   "cell_type": "markdown",
   "metadata": {},
   "source": [
    "## Evitando sobreajuste por meio de regularização"
   ]
  },
  {
   "cell_type": "code",
   "execution_count": 1,
   "metadata": {},
   "outputs": [],
   "source": [
    "# Python ≥3.5 é necessário\n",
    "import sys\n",
    "assert sys.version_info >= (3, 5)\n",
    "\n",
    "# Scikit-Learn ≥0.20 é necessário\n",
    "import sklearn\n",
    "assert sklearn.__version__ >= \"0.20\"\n",
    "\n",
    "try:\n",
    "    %tensorflow_version 2.x\n",
    "except Exception:\n",
    "    pass\n",
    "\n",
    "# TensorFlow ≥2.0 é necessário\n",
    "import tensorflow as tf\n",
    "from tensorflow import keras\n",
    "assert tf.__version__ >= \"2.0\"\n",
    "\n",
    "%load_ext tensorboard\n",
    "\n",
    "import numpy as np\n",
    "import os\n",
    "\n",
    "np.random.seed(42)"
   ]
  },
  {
   "cell_type": "code",
   "execution_count": 2,
   "metadata": {},
   "outputs": [],
   "source": [
    "(X_train_full, y_train_full), (X_test, y_test) = keras.datasets.fashion_mnist.load_data()\n",
    "X_train_full = X_train_full / 255.0\n",
    "X_test = X_test / 255.0\n",
    "X_valid, X_train = X_train_full[:5000], X_train_full[5000:]\n",
    "y_valid, y_train = y_train_full[:5000], y_train_full[5000:]\n",
    "\n",
    "pixel_means = X_train.mean(axis=0, keepdims=True)\n",
    "pixel_stds = X_train.std(axis=0, keepdims=True)\n",
    "X_train_scaled = (X_train - pixel_means) / pixel_stds\n",
    "X_valid_scaled = (X_valid - pixel_means) / pixel_stds\n",
    "X_test_scaled = (X_test - pixel_means) / pixel_stds"
   ]
  },
  {
   "cell_type": "markdown",
   "metadata": {},
   "source": [
    "## Regularização pela técnica Dropout"
   ]
  },
  {
   "cell_type": "code",
   "execution_count": 3,
   "metadata": {},
   "outputs": [
    {
     "name": "stdout",
     "output_type": "stream",
     "text": [
      "Epoch 1/2\n",
      "1719/1719 [==============================] - 11s 6ms/step - loss: 0.6106 - accuracy: 0.7985 - val_loss: 0.3831 - val_accuracy: 0.8706\n",
      "Epoch 2/2\n",
      "1719/1719 [==============================] - 10s 6ms/step - loss: 0.4516 - accuracy: 0.8413 - val_loss: 0.3712 - val_accuracy: 0.8644\n"
     ]
    }
   ],
   "source": [
    "model = keras.models.Sequential([\n",
    "    keras.layers.Flatten(input_shape=[28, 28]),\n",
    "    keras.layers.Dropout(rate=0.2),\n",
    "    keras.layers.Dense(300, activation=\"elu\", kernel_initializer=\"he_normal\"),\n",
    "    keras.layers.Dropout(rate=0.2),\n",
    "    keras.layers.Dense(100, activation=\"elu\", kernel_initializer=\"he_normal\"),\n",
    "    keras.layers.Dropout(rate=0.2),\n",
    "    keras.layers.Dense(10, activation=\"softmax\")\n",
    "])\n",
    "model.compile(loss=\"sparse_categorical_crossentropy\", metrics=[\"accuracy\"])\n",
    "n_epochs = 2\n",
    "history = model.fit(X_train_scaled, y_train, epochs=n_epochs,\n",
    "                    validation_data=(X_valid_scaled, y_valid))"
   ]
  },
  {
   "cell_type": "markdown",
   "metadata": {},
   "source": [
    "## Técnica Alpha Dropout\n",
    "\n",
    "Variação da técnica dropout, que preserva o valor da média e desvio padrão dos valores originais de entrada, para fins de normalização."
   ]
  },
  {
   "cell_type": "code",
   "execution_count": 4,
   "metadata": {},
   "outputs": [],
   "source": [
    "tf.random.set_seed(42)\n",
    "np.random.seed(42)"
   ]
  },
  {
   "cell_type": "code",
   "execution_count": 5,
   "metadata": {},
   "outputs": [
    {
     "name": "stdout",
     "output_type": "stream",
     "text": [
      "Epoch 1/20\n",
      "1719/1719 [==============================] - 11s 6ms/step - loss: 0.6659 - accuracy: 0.7589 - val_loss: 0.5884 - val_accuracy: 0.8472\n",
      "Epoch 2/20\n",
      "1719/1719 [==============================] - 9s 5ms/step - loss: 0.5566 - accuracy: 0.7973 - val_loss: 0.5617 - val_accuracy: 0.8418\n",
      "Epoch 3/20\n",
      "1719/1719 [==============================] - 10s 6ms/step - loss: 0.5266 - accuracy: 0.8049 - val_loss: 0.4981 - val_accuracy: 0.8588\n",
      "Epoch 4/20\n",
      "1719/1719 [==============================] - 11s 7ms/step - loss: 0.5107 - accuracy: 0.8107 - val_loss: 0.4627 - val_accuracy: 0.8668\n",
      "Epoch 5/20\n",
      "1719/1719 [==============================] - 11s 6ms/step - loss: 0.4936 - accuracy: 0.8159 - val_loss: 0.4498 - val_accuracy: 0.8590\n",
      "Epoch 6/20\n",
      "1719/1719 [==============================] - 14s 8ms/step - loss: 0.4812 - accuracy: 0.8235 - val_loss: 0.4520 - val_accuracy: 0.8588\n",
      "Epoch 7/20\n",
      "1719/1719 [==============================] - 14s 8ms/step - loss: 0.4699 - accuracy: 0.8247 - val_loss: 0.4857 - val_accuracy: 0.8576\n",
      "Epoch 8/20\n",
      "1719/1719 [==============================] - 11s 6ms/step - loss: 0.4687 - accuracy: 0.8273 - val_loss: 0.4498 - val_accuracy: 0.8596\n",
      "Epoch 9/20\n",
      "1719/1719 [==============================] - 11s 6ms/step - loss: 0.4577 - accuracy: 0.8297 - val_loss: 0.4420 - val_accuracy: 0.8686\n",
      "Epoch 10/20\n",
      "1719/1719 [==============================] - 10s 6ms/step - loss: 0.4504 - accuracy: 0.8320 - val_loss: 0.4724 - val_accuracy: 0.8686\n",
      "Epoch 11/20\n",
      "1719/1719 [==============================] - 10s 6ms/step - loss: 0.4494 - accuracy: 0.8331 - val_loss: 0.4208 - val_accuracy: 0.8700\n",
      "Epoch 12/20\n",
      "1719/1719 [==============================] - 10s 6ms/step - loss: 0.4425 - accuracy: 0.8358 - val_loss: 0.5243 - val_accuracy: 0.8540\n",
      "Epoch 13/20\n",
      "1719/1719 [==============================] - 11s 6ms/step - loss: 0.4370 - accuracy: 0.8371 - val_loss: 0.4340 - val_accuracy: 0.8750\n",
      "Epoch 14/20\n",
      "1719/1719 [==============================] - 15s 8ms/step - loss: 0.4356 - accuracy: 0.8365 - val_loss: 0.4582 - val_accuracy: 0.8564\n",
      "Epoch 15/20\n",
      "1719/1719 [==============================] - 11s 6ms/step - loss: 0.4348 - accuracy: 0.8391 - val_loss: 0.4264 - val_accuracy: 0.8740\n",
      "Epoch 16/20\n",
      "1719/1719 [==============================] - 11s 6ms/step - loss: 0.4276 - accuracy: 0.8402 - val_loss: 0.4302 - val_accuracy: 0.8742\n",
      "Epoch 17/20\n",
      "1719/1719 [==============================] - 13s 8ms/step - loss: 0.4262 - accuracy: 0.8402 - val_loss: 0.5502 - val_accuracy: 0.8600\n",
      "Epoch 18/20\n",
      "1719/1719 [==============================] - 12s 7ms/step - loss: 0.4262 - accuracy: 0.8402 - val_loss: 0.4690 - val_accuracy: 0.8758\n",
      "Epoch 19/20\n",
      "1719/1719 [==============================] - 10s 6ms/step - loss: 0.4224 - accuracy: 0.8424 - val_loss: 0.4712 - val_accuracy: 0.8684\n",
      "Epoch 20/20\n",
      "1719/1719 [==============================] - 9s 5ms/step - loss: 0.4197 - accuracy: 0.8440 - val_loss: 0.3993 - val_accuracy: 0.8780\n"
     ]
    }
   ],
   "source": [
    "model = keras.models.Sequential([\n",
    "    keras.layers.Flatten(input_shape=[28, 28]),\n",
    "    keras.layers.AlphaDropout(rate=0.2),\n",
    "    keras.layers.Dense(300, activation=\"selu\", kernel_initializer=\"lecun_normal\"),\n",
    "    keras.layers.AlphaDropout(rate=0.2),\n",
    "    keras.layers.Dense(100, activation=\"selu\", kernel_initializer=\"lecun_normal\"),\n",
    "    keras.layers.AlphaDropout(rate=0.2),\n",
    "    keras.layers.Dense(10, activation=\"softmax\")\n",
    "])\n",
    "optimizer = keras.optimizers.SGD(learning_rate=0.01, momentum=0.9, nesterov=True)\n",
    "model.compile(loss=\"sparse_categorical_crossentropy\", optimizer=optimizer, metrics=[\"accuracy\"])\n",
    "n_epochs = 20\n",
    "history = model.fit(X_train_scaled, y_train, epochs=n_epochs,\n",
    "                    validation_data=(X_valid_scaled, y_valid))"
   ]
  }
 ],
 "metadata": {
  "kernelspec": {
   "display_name": "Python 3 (ipykernel)",
   "language": "python",
   "name": "python3"
  },
  "language_info": {
   "codemirror_mode": {
    "name": "ipython",
    "version": 3
   },
   "file_extension": ".py",
   "mimetype": "text/x-python",
   "name": "python",
   "nbconvert_exporter": "python",
   "pygments_lexer": "ipython3",
   "version": "3.9.13"
  },
  "nav_menu": {
   "height": "360px",
   "width": "416px"
  },
  "toc": {
   "navigate_menu": true,
   "number_sections": true,
   "sideBar": true,
   "threshold": 6,
   "toc_cell": false,
   "toc_section_display": "block",
   "toc_window_display": false
  }
 },
 "nbformat": 4,
 "nbformat_minor": 4
}
