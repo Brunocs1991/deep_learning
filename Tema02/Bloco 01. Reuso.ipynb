{
 "cells": [
  {
   "cell_type": "markdown",
   "metadata": {},
   "source": [
    "## Reúso de camadas pré-treinadas e transferência do aprendizado"
   ]
  },
  {
   "cell_type": "code",
   "execution_count": 1,
   "metadata": {},
   "outputs": [],
   "source": [
    "# Python ≥3.5 é necessário\n",
    "import sys\n",
    "assert sys.version_info >= (3, 5)\n",
    "\n",
    "# Scikit-Learn ≥0.20 é necessário\n",
    "import sklearn\n",
    "assert sklearn.__version__ >= \"0.20\"\n",
    "\n",
    "try:\n",
    "    %tensorflow_version 2.x\n",
    "except Exception:\n",
    "    pass\n",
    "\n",
    "# TensorFlow ≥2.0 é necessário\n",
    "import tensorflow as tf\n",
    "from tensorflow import keras\n",
    "assert tf.__version__ >= \"2.0\"\n",
    "\n",
    "%load_ext tensorboard\n",
    "\n",
    "import numpy as np\n",
    "import os\n",
    "\n",
    "np.random.seed(42)\n",
    "\n",
    "%matplotlib inline\n",
    "import matplotlib as mpl\n",
    "import matplotlib.pyplot as plt\n",
    "mpl.rc('axes', labelsize=14)\n",
    "mpl.rc('xtick', labelsize=12)\n",
    "mpl.rc('ytick', labelsize=12)"
   ]
  },
  {
   "cell_type": "markdown",
   "metadata": {},
   "source": [
    "### Reusando um modelo da biblioteca Keras"
   ]
  },
  {
   "cell_type": "markdown",
   "metadata": {},
   "source": [
    "Vamos dividir o conjunto de dados MNIST em dois:\n",
    "* `X_train_A`: todas as imagens do conjunto de dados, exceto sandálias e camisas (classes 5 e 6).\n",
    "* `X_train_B`: conjunto de treinamento menor com as 200 primeiras imagens de sandálias e camisetas."
   ]
  },
  {
   "cell_type": "code",
   "execution_count": 2,
   "metadata": {},
   "outputs": [],
   "source": [
    "(X_train_full, y_train_full), (X_test, y_test) = keras.datasets.fashion_mnist.load_data()\n",
    "X_train_full = X_train_full / 255.0\n",
    "X_test = X_test / 255.0\n",
    "X_valid, X_train = X_train_full[:5000], X_train_full[5000:]\n",
    "y_valid, y_train = y_train_full[:5000], y_train_full[5000:]\n",
    "\n",
    "def split_dataset(X, y):\n",
    "    y_5_or_6 = (y == 5) | (y == 6) # sandálias ou camisas\n",
    "    y_A = y[~y_5_or_6]\n",
    "    y_A[y_A > 6] -= 2 # índices das classes 7, 8, 9 deveriam ser alterados para 5, 6, 7\n",
    "    y_B = (y[y_5_or_6] == 6).astype(np.float32) # classificação binária: é uma camisa? (classe 6)?\n",
    "    return ((X[~y_5_or_6], y_A),\n",
    "            (X[y_5_or_6], y_B))\n",
    "\n",
    "(X_train_A, y_train_A), (X_train_B, y_train_B) = split_dataset(X_train, y_train)\n",
    "(X_valid_A, y_valid_A), (X_valid_B, y_valid_B) = split_dataset(X_valid, y_valid)\n",
    "(X_test_A, y_test_A), (X_test_B, y_test_B) = split_dataset(X_test, y_test)\n",
    "X_train_B = X_train_B[:200]\n",
    "y_train_B = y_train_B[:200]"
   ]
  },
  {
   "cell_type": "code",
   "execution_count": 3,
   "metadata": {},
   "outputs": [
    {
     "data": {
      "text/plain": [
       "(43986, 28, 28)"
      ]
     },
     "execution_count": 3,
     "metadata": {},
     "output_type": "execute_result"
    }
   ],
   "source": [
    "X_train_A.shape"
   ]
  },
  {
   "cell_type": "code",
   "execution_count": 4,
   "metadata": {},
   "outputs": [
    {
     "data": {
      "text/plain": [
       "(200, 28, 28)"
      ]
     },
     "execution_count": 4,
     "metadata": {},
     "output_type": "execute_result"
    }
   ],
   "source": [
    "X_train_B.shape"
   ]
  },
  {
   "cell_type": "code",
   "execution_count": 5,
   "metadata": {},
   "outputs": [],
   "source": [
    "tf.random.set_seed(42)\n",
    "np.random.seed(42)"
   ]
  },
  {
   "cell_type": "code",
   "execution_count": 6,
   "metadata": {},
   "outputs": [],
   "source": [
    "model_A = keras.models.Sequential()\n",
    "model_A.add(keras.layers.Flatten(input_shape=[28, 28]))\n",
    "for n_hidden in (300, 100, 50, 50, 50):\n",
    "    model_A.add(keras.layers.Dense(n_hidden, activation=\"selu\"))\n",
    "model_A.add(keras.layers.Dense(8, activation=\"softmax\"))"
   ]
  },
  {
   "cell_type": "code",
   "execution_count": 7,
   "metadata": {},
   "outputs": [],
   "source": [
    "model_A.compile(loss=\"sparse_categorical_crossentropy\",\n",
    "                optimizer=keras.optimizers.SGD(learning_rate=1e-3),\n",
    "                metrics=[\"accuracy\"])"
   ]
  },
  {
   "cell_type": "code",
   "execution_count": 8,
   "metadata": {},
   "outputs": [
    {
     "name": "stdout",
     "output_type": "stream",
     "text": [
      "Epoch 1/20\n",
      "1375/1375 [==============================] - 6s 4ms/step - loss: 0.5923 - accuracy: 0.8091 - val_loss: 0.3815 - val_accuracy: 0.8647\n",
      "Epoch 2/20\n",
      "1375/1375 [==============================] - 6s 4ms/step - loss: 0.3532 - accuracy: 0.8780 - val_loss: 0.3222 - val_accuracy: 0.8859\n",
      "Epoch 3/20\n",
      "1375/1375 [==============================] - 8s 6ms/step - loss: 0.3150 - accuracy: 0.8911 - val_loss: 0.2958 - val_accuracy: 0.8989\n",
      "Epoch 4/20\n",
      "1375/1375 [==============================] - 5s 4ms/step - loss: 0.2956 - accuracy: 0.8986 - val_loss: 0.2816 - val_accuracy: 0.9041\n",
      "Epoch 5/20\n",
      "1375/1375 [==============================] - 7s 5ms/step - loss: 0.2825 - accuracy: 0.9028 - val_loss: 0.2730 - val_accuracy: 0.9091\n",
      "Epoch 6/20\n",
      "1375/1375 [==============================] - 7s 5ms/step - loss: 0.2728 - accuracy: 0.9072 - val_loss: 0.2658 - val_accuracy: 0.9106\n",
      "Epoch 7/20\n",
      "1375/1375 [==============================] - 6s 4ms/step - loss: 0.2647 - accuracy: 0.9096 - val_loss: 0.2633 - val_accuracy: 0.9133\n",
      "Epoch 8/20\n",
      "1375/1375 [==============================] - 8s 6ms/step - loss: 0.2580 - accuracy: 0.9126 - val_loss: 0.2574 - val_accuracy: 0.9131\n",
      "Epoch 9/20\n",
      "1375/1375 [==============================] - 6s 4ms/step - loss: 0.2529 - accuracy: 0.9139 - val_loss: 0.2539 - val_accuracy: 0.9143\n",
      "Epoch 10/20\n",
      "1375/1375 [==============================] - 7s 5ms/step - loss: 0.2479 - accuracy: 0.9157 - val_loss: 0.2495 - val_accuracy: 0.9160\n",
      "Epoch 11/20\n",
      "1375/1375 [==============================] - 6s 4ms/step - loss: 0.2434 - accuracy: 0.9173 - val_loss: 0.2452 - val_accuracy: 0.9160\n",
      "Epoch 12/20\n",
      "1375/1375 [==============================] - 7s 5ms/step - loss: 0.2395 - accuracy: 0.9184 - val_loss: 0.2442 - val_accuracy: 0.9165\n",
      "Epoch 13/20\n",
      "1375/1375 [==============================] - 7s 5ms/step - loss: 0.2361 - accuracy: 0.9192 - val_loss: 0.2402 - val_accuracy: 0.9183\n",
      "Epoch 14/20\n",
      "1375/1375 [==============================] - 5s 4ms/step - loss: 0.2328 - accuracy: 0.9208 - val_loss: 0.2382 - val_accuracy: 0.9175\n",
      "Epoch 15/20\n",
      "1375/1375 [==============================] - 7s 5ms/step - loss: 0.2298 - accuracy: 0.9212 - val_loss: 0.2423 - val_accuracy: 0.9158\n",
      "Epoch 16/20\n",
      "1375/1375 [==============================] - 6s 4ms/step - loss: 0.2268 - accuracy: 0.9226 - val_loss: 0.2352 - val_accuracy: 0.9215\n",
      "Epoch 17/20\n",
      "1375/1375 [==============================] - 6s 4ms/step - loss: 0.2241 - accuracy: 0.9240 - val_loss: 0.2388 - val_accuracy: 0.9188\n",
      "Epoch 18/20\n",
      "1375/1375 [==============================] - 7s 5ms/step - loss: 0.2212 - accuracy: 0.9250 - val_loss: 0.2404 - val_accuracy: 0.9190\n",
      "Epoch 19/20\n",
      "1375/1375 [==============================] - 7s 5ms/step - loss: 0.2189 - accuracy: 0.9256 - val_loss: 0.2317 - val_accuracy: 0.9205\n",
      "Epoch 20/20\n",
      "1375/1375 [==============================] - 10s 7ms/step - loss: 0.2165 - accuracy: 0.9268 - val_loss: 0.2315 - val_accuracy: 0.9205\n"
     ]
    }
   ],
   "source": [
    "history = model_A.fit(X_train_A, y_train_A, epochs=20,\n",
    "                    validation_data=(X_valid_A, y_valid_A))"
   ]
  },
  {
   "cell_type": "code",
   "execution_count": 9,
   "metadata": {},
   "outputs": [],
   "source": [
    "model_A.save(\"my_model_A.h5\")"
   ]
  },
  {
   "cell_type": "code",
   "execution_count": 10,
   "metadata": {},
   "outputs": [],
   "source": [
    "model_B = keras.models.Sequential()\n",
    "model_B.add(keras.layers.Flatten(input_shape=[28, 28]))\n",
    "for n_hidden in (300, 100, 50, 50, 50):\n",
    "    model_B.add(keras.layers.Dense(n_hidden, activation=\"selu\"))\n",
    "model_B.add(keras.layers.Dense(1, activation=\"sigmoid\"))"
   ]
  },
  {
   "cell_type": "code",
   "execution_count": 11,
   "metadata": {},
   "outputs": [],
   "source": [
    "model_B.compile(loss=\"binary_crossentropy\",\n",
    "                optimizer=keras.optimizers.SGD(learning_rate=1e-3),\n",
    "                metrics=[\"accuracy\"])"
   ]
  },
  {
   "cell_type": "code",
   "execution_count": 12,
   "metadata": {},
   "outputs": [
    {
     "name": "stdout",
     "output_type": "stream",
     "text": [
      "Epoch 1/20\n",
      "7/7 [==============================] - 1s 36ms/step - loss: 0.7333 - accuracy: 0.5950 - val_loss: 0.4617 - val_accuracy: 0.8093\n",
      "Epoch 2/20\n",
      "7/7 [==============================] - 0s 14ms/step - loss: 0.4079 - accuracy: 0.8450 - val_loss: 0.3692 - val_accuracy: 0.8641\n",
      "Epoch 3/20\n",
      "7/7 [==============================] - 0s 14ms/step - loss: 0.3244 - accuracy: 0.8900 - val_loss: 0.3096 - val_accuracy: 0.8945\n",
      "Epoch 4/20\n",
      "7/7 [==============================] - 0s 15ms/step - loss: 0.2705 - accuracy: 0.9150 - val_loss: 0.2660 - val_accuracy: 0.9260\n",
      "Epoch 5/20\n",
      "7/7 [==============================] - 0s 15ms/step - loss: 0.2308 - accuracy: 0.9350 - val_loss: 0.2334 - val_accuracy: 0.9402\n",
      "Epoch 6/20\n",
      "7/7 [==============================] - 0s 15ms/step - loss: 0.2004 - accuracy: 0.9500 - val_loss: 0.2083 - val_accuracy: 0.9513\n",
      "Epoch 7/20\n",
      "7/7 [==============================] - 0s 15ms/step - loss: 0.1776 - accuracy: 0.9600 - val_loss: 0.1908 - val_accuracy: 0.9544\n",
      "Epoch 8/20\n",
      "7/7 [==============================] - 0s 16ms/step - loss: 0.1598 - accuracy: 0.9650 - val_loss: 0.1732 - val_accuracy: 0.9604\n",
      "Epoch 9/20\n",
      "7/7 [==============================] - 0s 17ms/step - loss: 0.1452 - accuracy: 0.9700 - val_loss: 0.1574 - val_accuracy: 0.9706\n",
      "Epoch 10/20\n",
      "7/7 [==============================] - 0s 17ms/step - loss: 0.1325 - accuracy: 0.9800 - val_loss: 0.1477 - val_accuracy: 0.9726\n",
      "Epoch 11/20\n",
      "7/7 [==============================] - 0s 18ms/step - loss: 0.1229 - accuracy: 0.9800 - val_loss: 0.1404 - val_accuracy: 0.9726\n",
      "Epoch 12/20\n",
      "7/7 [==============================] - 0s 18ms/step - loss: 0.1146 - accuracy: 0.9850 - val_loss: 0.1328 - val_accuracy: 0.9726\n",
      "Epoch 13/20\n",
      "7/7 [==============================] - 0s 18ms/step - loss: 0.1073 - accuracy: 0.9850 - val_loss: 0.1258 - val_accuracy: 0.9736\n",
      "Epoch 14/20\n",
      "7/7 [==============================] - 0s 18ms/step - loss: 0.1012 - accuracy: 0.9900 - val_loss: 0.1207 - val_accuracy: 0.9746\n",
      "Epoch 15/20\n",
      "7/7 [==============================] - 0s 20ms/step - loss: 0.0954 - accuracy: 0.9850 - val_loss: 0.1141 - val_accuracy: 0.9767\n",
      "Epoch 16/20\n",
      "7/7 [==============================] - 0s 20ms/step - loss: 0.0903 - accuracy: 0.9900 - val_loss: 0.1094 - val_accuracy: 0.9777\n",
      "Epoch 17/20\n",
      "7/7 [==============================] - 0s 20ms/step - loss: 0.0860 - accuracy: 0.9900 - val_loss: 0.1055 - val_accuracy: 0.9777\n",
      "Epoch 18/20\n",
      "7/7 [==============================] - 0s 21ms/step - loss: 0.0820 - accuracy: 0.9900 - val_loss: 0.1018 - val_accuracy: 0.9787\n",
      "Epoch 19/20\n",
      "7/7 [==============================] - 0s 21ms/step - loss: 0.0785 - accuracy: 0.9900 - val_loss: 0.0990 - val_accuracy: 0.9787\n",
      "Epoch 20/20\n",
      "7/7 [==============================] - 0s 21ms/step - loss: 0.0751 - accuracy: 0.9900 - val_loss: 0.0965 - val_accuracy: 0.9777\n"
     ]
    }
   ],
   "source": [
    "history = model_B.fit(X_train_B, y_train_B, epochs=20,\n",
    "                      validation_data=(X_valid_B, y_valid_B))"
   ]
  },
  {
   "cell_type": "code",
   "execution_count": 13,
   "metadata": {},
   "outputs": [],
   "source": [
    "model_A = keras.models.load_model(\"my_model_A.h5\")\n",
    "model_B_on_A = keras.models.Sequential(model_A.layers[:-1])\n",
    "model_B_on_A.add(keras.layers.Dense(1, activation=\"sigmoid\"))"
   ]
  },
  {
   "cell_type": "code",
   "execution_count": 14,
   "metadata": {},
   "outputs": [],
   "source": [
    "model_A_clone = keras.models.clone_model(model_A)\n",
    "model_A_clone.set_weights(model_A.get_weights())"
   ]
  },
  {
   "cell_type": "code",
   "execution_count": 15,
   "metadata": {},
   "outputs": [
    {
     "name": "stdout",
     "output_type": "stream",
     "text": [
      "Epoch 1/16\n",
      "7/7 [==============================] - 1s 47ms/step - loss: 0.3058 - accuracy: 0.8950 - val_loss: 0.3448 - val_accuracy: 0.8682\n",
      "Epoch 2/16\n",
      "7/7 [==============================] - 0s 19ms/step - loss: 0.2953 - accuracy: 0.9050 - val_loss: 0.3352 - val_accuracy: 0.8773\n",
      "Epoch 3/16\n",
      "7/7 [==============================] - 0s 18ms/step - loss: 0.2863 - accuracy: 0.9150 - val_loss: 0.3258 - val_accuracy: 0.8854\n",
      "Epoch 4/16\n",
      "7/7 [==============================] - 0s 18ms/step - loss: 0.2776 - accuracy: 0.9200 - val_loss: 0.3167 - val_accuracy: 0.8905\n",
      "Epoch 5/16\n",
      "7/7 [==============================] - 0s 18ms/step - loss: 0.2692 - accuracy: 0.9200 - val_loss: 0.3080 - val_accuracy: 0.8935\n",
      "Epoch 6/16\n",
      "7/7 [==============================] - 0s 18ms/step - loss: 0.2611 - accuracy: 0.9350 - val_loss: 0.2997 - val_accuracy: 0.9016\n",
      "Epoch 7/16\n",
      "7/7 [==============================] - 0s 18ms/step - loss: 0.2535 - accuracy: 0.9350 - val_loss: 0.2921 - val_accuracy: 0.9047\n",
      "Epoch 8/16\n",
      "7/7 [==============================] - 0s 19ms/step - loss: 0.2466 - accuracy: 0.9350 - val_loss: 0.2850 - val_accuracy: 0.9087\n",
      "Epoch 9/16\n",
      "7/7 [==============================] - 0s 21ms/step - loss: 0.2400 - accuracy: 0.9400 - val_loss: 0.2782 - val_accuracy: 0.9138\n",
      "Epoch 10/16\n",
      "7/7 [==============================] - 0s 21ms/step - loss: 0.2337 - accuracy: 0.9400 - val_loss: 0.2717 - val_accuracy: 0.9168\n",
      "Epoch 11/16\n",
      "7/7 [==============================] - 0s 21ms/step - loss: 0.2278 - accuracy: 0.9500 - val_loss: 0.2658 - val_accuracy: 0.9199\n",
      "Epoch 12/16\n",
      "7/7 [==============================] - 0s 24ms/step - loss: 0.2223 - accuracy: 0.9500 - val_loss: 0.2601 - val_accuracy: 0.9229\n",
      "Epoch 13/16\n",
      "7/7 [==============================] - 0s 24ms/step - loss: 0.2171 - accuracy: 0.9500 - val_loss: 0.2547 - val_accuracy: 0.9260\n",
      "Epoch 14/16\n",
      "7/7 [==============================] - 0s 25ms/step - loss: 0.2121 - accuracy: 0.9500 - val_loss: 0.2494 - val_accuracy: 0.9280\n",
      "Epoch 15/16\n",
      "7/7 [==============================] - 0s 25ms/step - loss: 0.2073 - accuracy: 0.9500 - val_loss: 0.2445 - val_accuracy: 0.9300\n",
      "Epoch 16/16\n",
      "7/7 [==============================] - 0s 23ms/step - loss: 0.2027 - accuracy: 0.9550 - val_loss: 0.2397 - val_accuracy: 0.9300\n"
     ]
    }
   ],
   "source": [
    "for layer in model_B_on_A.layers[:-1]:\n",
    "    layer.trainable = False\n",
    "\n",
    "model_B_on_A.compile(loss=\"binary_crossentropy\",\n",
    "                     optimizer=keras.optimizers.SGD(learning_rate=1e-3),\n",
    "                     metrics=[\"accuracy\"])\n",
    "\n",
    "history = model_B_on_A.fit(X_train_B, y_train_B, epochs=16,\n",
    "                           validation_data=(X_valid_B, y_valid_B))"
   ]
  },
  {
   "cell_type": "code",
   "execution_count": 16,
   "metadata": {},
   "outputs": [
    {
     "name": "stdout",
     "output_type": "stream",
     "text": [
      "Epoch 1/16\n",
      "7/7 [==============================] - 1s 53ms/step - loss: 0.1857 - accuracy: 0.9550 - val_loss: 0.1997 - val_accuracy: 0.9442\n",
      "Epoch 2/16\n",
      "7/7 [==============================] - 0s 21ms/step - loss: 0.1516 - accuracy: 0.9600 - val_loss: 0.1736 - val_accuracy: 0.9513\n",
      "Epoch 3/16\n",
      "7/7 [==============================] - 0s 29ms/step - loss: 0.1294 - accuracy: 0.9700 - val_loss: 0.1527 - val_accuracy: 0.9564\n",
      "Epoch 4/16\n",
      "7/7 [==============================] - 0s 23ms/step - loss: 0.1120 - accuracy: 0.9750 - val_loss: 0.1366 - val_accuracy: 0.9625\n",
      "Epoch 5/16\n",
      "7/7 [==============================] - 0s 23ms/step - loss: 0.0984 - accuracy: 0.9800 - val_loss: 0.1246 - val_accuracy: 0.9696\n",
      "Epoch 6/16\n",
      "7/7 [==============================] - 0s 25ms/step - loss: 0.0879 - accuracy: 0.9850 - val_loss: 0.1147 - val_accuracy: 0.9726\n",
      "Epoch 7/16\n",
      "7/7 [==============================] - 0s 25ms/step - loss: 0.0793 - accuracy: 0.9850 - val_loss: 0.1070 - val_accuracy: 0.9746\n",
      "Epoch 8/16\n",
      "7/7 [==============================] - 0s 24ms/step - loss: 0.0727 - accuracy: 0.9850 - val_loss: 0.1001 - val_accuracy: 0.9757\n",
      "Epoch 9/16\n",
      "7/7 [==============================] - 0s 26ms/step - loss: 0.0667 - accuracy: 0.9850 - val_loss: 0.0940 - val_accuracy: 0.9767\n",
      "Epoch 10/16\n",
      "7/7 [==============================] - 0s 27ms/step - loss: 0.0616 - accuracy: 0.9850 - val_loss: 0.0892 - val_accuracy: 0.9777\n",
      "Epoch 11/16\n",
      "7/7 [==============================] - 0s 26ms/step - loss: 0.0574 - accuracy: 0.9850 - val_loss: 0.0847 - val_accuracy: 0.9787\n",
      "Epoch 12/16\n",
      "7/7 [==============================] - 0s 24ms/step - loss: 0.0533 - accuracy: 0.9950 - val_loss: 0.0808 - val_accuracy: 0.9797\n",
      "Epoch 13/16\n",
      "7/7 [==============================] - 0s 27ms/step - loss: 0.0499 - accuracy: 0.9950 - val_loss: 0.0772 - val_accuracy: 0.9797\n",
      "Epoch 14/16\n",
      "7/7 [==============================] - 0s 26ms/step - loss: 0.0468 - accuracy: 0.9950 - val_loss: 0.0739 - val_accuracy: 0.9797\n",
      "Epoch 15/16\n",
      "7/7 [==============================] - 0s 26ms/step - loss: 0.0439 - accuracy: 0.9950 - val_loss: 0.0712 - val_accuracy: 0.9807\n",
      "Epoch 16/16\n",
      "7/7 [==============================] - 0s 25ms/step - loss: 0.0417 - accuracy: 0.9950 - val_loss: 0.0688 - val_accuracy: 0.9828\n"
     ]
    }
   ],
   "source": [
    "for layer in model_B_on_A.layers[:-1]:\n",
    "    layer.trainable = True\n",
    "\n",
    "model_B_on_A.compile(loss=\"binary_crossentropy\",\n",
    "                     optimizer=keras.optimizers.SGD(learning_rate=1e-3),\n",
    "                     metrics=[\"accuracy\"])\n",
    "history = model_B_on_A.fit(X_train_B, y_train_B, epochs=16,\n",
    "                           validation_data=(X_valid_B, y_valid_B))"
   ]
  },
  {
   "cell_type": "markdown",
   "metadata": {},
   "source": [
    "### Acurácia dos modelos:"
   ]
  },
  {
   "cell_type": "code",
   "execution_count": 17,
   "metadata": {},
   "outputs": [
    {
     "name": "stdout",
     "output_type": "stream",
     "text": [
      "63/63 [==============================] - 0s 3ms/step - loss: 0.0936 - accuracy: 0.9810\n"
     ]
    },
    {
     "data": {
      "text/plain": [
       "[0.0935618132352829, 0.9810000061988831]"
      ]
     },
     "execution_count": 17,
     "metadata": {},
     "output_type": "execute_result"
    }
   ],
   "source": [
    "model_B.evaluate(X_test_B, y_test_B)"
   ]
  },
  {
   "cell_type": "code",
   "execution_count": 18,
   "metadata": {
    "scrolled": true
   },
   "outputs": [
    {
     "name": "stdout",
     "output_type": "stream",
     "text": [
      "63/63 [==============================] - 0s 3ms/step - loss: 0.0692 - accuracy: 0.9840\n"
     ]
    },
    {
     "data": {
      "text/plain": [
       "[0.06920021027326584, 0.984000027179718]"
      ]
     },
     "execution_count": 18,
     "metadata": {},
     "output_type": "execute_result"
    }
   ],
   "source": [
    "model_B_on_A.evaluate(X_test_B, y_test_B)"
   ]
  }
 ],
 "metadata": {
  "kernelspec": {
   "display_name": "Python 3 (ipykernel)",
   "language": "python",
   "name": "python3"
  },
  "language_info": {
   "codemirror_mode": {
    "name": "ipython",
    "version": 3
   },
   "file_extension": ".py",
   "mimetype": "text/x-python",
   "name": "python",
   "nbconvert_exporter": "python",
   "pygments_lexer": "ipython3",
   "version": "3.9.13"
  },
  "nav_menu": {
   "height": "360px",
   "width": "416px"
  },
  "toc": {
   "navigate_menu": true,
   "number_sections": true,
   "sideBar": true,
   "threshold": 6,
   "toc_cell": false,
   "toc_section_display": "block",
   "toc_window_display": false
  }
 },
 "nbformat": 4,
 "nbformat_minor": 4
}
