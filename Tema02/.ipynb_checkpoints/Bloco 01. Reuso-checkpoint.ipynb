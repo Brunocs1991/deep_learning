{
 "cells": [
  {
   "cell_type": "markdown",
   "metadata": {},
   "source": [
    "## Reúso de camadas pré-treinadas e transferência do aprendizado"
   ]
  },
  {
   "cell_type": "code",
   "execution_count": 1,
   "metadata": {},
   "outputs": [],
   "source": [
    "# Python ≥3.5 é necessário\n",
    "import sys\n",
    "assert sys.version_info >= (3, 5)\n",
    "\n",
    "# Scikit-Learn ≥0.20 é necessário\n",
    "import sklearn\n",
    "assert sklearn.__version__ >= \"0.20\"\n",
    "\n",
    "try:\n",
    "    %tensorflow_version 2.x\n",
    "except Exception:\n",
    "    pass\n",
    "\n",
    "# TensorFlow ≥2.0 é necessário\n",
    "import tensorflow as tf\n",
    "from tensorflow import keras\n",
    "assert tf.__version__ >= \"2.0\"\n",
    "\n",
    "%load_ext tensorboard\n",
    "\n",
    "import numpy as np\n",
    "import os\n",
    "\n",
    "np.random.seed(42)\n",
    "\n",
    "%matplotlib inline\n",
    "import matplotlib as mpl\n",
    "import matplotlib.pyplot as plt\n",
    "mpl.rc('axes', labelsize=14)\n",
    "mpl.rc('xtick', labelsize=12)\n",
    "mpl.rc('ytick', labelsize=12)"
   ]
  },
  {
   "cell_type": "markdown",
   "metadata": {},
   "source": [
    "### Reusando um modelo da biblioteca Keras"
   ]
  },
  {
   "cell_type": "markdown",
   "metadata": {},
   "source": [
    "Vamos dividir o conjunto de dados MNIST em dois:\n",
    "* `X_train_A`: todas as imagens do conjunto de dados, exceto sandálias e camisas (classes 5 e 6).\n",
    "* `X_train_B`: conjunto de treinamento menor com as 200 primeiras imagens de sandálias e camisetas."
   ]
  },
  {
   "cell_type": "code",
   "execution_count": 2,
   "metadata": {},
   "outputs": [],
   "source": [
    "(X_train_full, y_train_full), (X_test, y_test) = keras.datasets.fashion_mnist.load_data()\n",
    "X_train_full = X_train_full / 255.0\n",
    "X_test = X_test / 255.0\n",
    "X_valid, X_train = X_train_full[:5000], X_train_full[5000:]\n",
    "y_valid, y_train = y_train_full[:5000], y_train_full[5000:]\n",
    "\n",
    "def split_dataset(X, y):\n",
    "    y_5_or_6 = (y == 5) | (y == 6) # sandálias ou camisas\n",
    "    y_A = y[~y_5_or_6]\n",
    "    y_A[y_A > 6] -= 2 # índices das classes 7, 8, 9 deveriam ser alterados para 5, 6, 7\n",
    "    y_B = (y[y_5_or_6] == 6).astype(np.float32) # classificação binária: é uma camisa? (classe 6)?\n",
    "    return ((X[~y_5_or_6], y_A),\n",
    "            (X[y_5_or_6], y_B))\n",
    "\n",
    "(X_train_A, y_train_A), (X_train_B, y_train_B) = split_dataset(X_train, y_train)\n",
    "(X_valid_A, y_valid_A), (X_valid_B, y_valid_B) = split_dataset(X_valid, y_valid)\n",
    "(X_test_A, y_test_A), (X_test_B, y_test_B) = split_dataset(X_test, y_test)\n",
    "X_train_B = X_train_B[:200]\n",
    "y_train_B = y_train_B[:200]"
   ]
  },
  {
   "cell_type": "code",
   "execution_count": 3,
   "metadata": {},
   "outputs": [
    {
     "data": {
      "text/plain": [
       "(43986, 28, 28)"
      ]
     },
     "execution_count": 3,
     "metadata": {},
     "output_type": "execute_result"
    }
   ],
   "source": [
    "X_train_A.shape"
   ]
  },
  {
   "cell_type": "code",
   "execution_count": 4,
   "metadata": {},
   "outputs": [
    {
     "data": {
      "text/plain": [
       "(200, 28, 28)"
      ]
     },
     "execution_count": 4,
     "metadata": {},
     "output_type": "execute_result"
    }
   ],
   "source": [
    "X_train_B.shape"
   ]
  },
  {
   "cell_type": "code",
   "execution_count": 5,
   "metadata": {},
   "outputs": [],
   "source": [
    "tf.random.set_seed(42)\n",
    "np.random.seed(42)"
   ]
  },
  {
   "cell_type": "code",
   "execution_count": 6,
   "metadata": {},
   "outputs": [],
   "source": [
    "model_A = keras.models.Sequential()\n",
    "model_A.add(keras.layers.Flatten(input_shape=[28, 28]))\n",
    "for n_hidden in (300, 100, 50, 50, 50):\n",
    "    model_A.add(keras.layers.Dense(n_hidden, activation=\"selu\"))\n",
    "model_A.add(keras.layers.Dense(8, activation=\"softmax\"))"
   ]
  },
  {
   "cell_type": "code",
   "execution_count": 7,
   "metadata": {},
   "outputs": [],
   "source": [
    "model_A.compile(loss=\"sparse_categorical_crossentropy\",\n",
    "                optimizer=keras.optimizers.SGD(learning_rate=1e-3),\n",
    "                metrics=[\"accuracy\"])"
   ]
  },
  {
   "cell_type": "code",
   "execution_count": 8,
   "metadata": {},
   "outputs": [
    {
     "name": "stdout",
     "output_type": "stream",
     "text": [
      "Epoch 1/20\n",
      "1375/1375 [==============================] - 16s 9ms/step - loss: 0.5603 - accuracy: 0.8178 - val_loss: 0.3849 - val_accuracy: 0.8692\n",
      "Epoch 2/20\n",
      "1375/1375 [==============================] - 10s 7ms/step - loss: 0.3563 - accuracy: 0.8759 - val_loss: 0.3346 - val_accuracy: 0.8827\n",
      "Epoch 3/20\n",
      "1375/1375 [==============================] - 12s 9ms/step - loss: 0.3203 - accuracy: 0.8898 - val_loss: 0.3052 - val_accuracy: 0.8956\n",
      "Epoch 4/20\n",
      "1375/1375 [==============================] - 11s 8ms/step - loss: 0.3011 - accuracy: 0.8968 - val_loss: 0.2932 - val_accuracy: 0.8994\n",
      "Epoch 5/20\n",
      "1375/1375 [==============================] - 10s 7ms/step - loss: 0.2878 - accuracy: 0.9013 - val_loss: 0.2815 - val_accuracy: 0.9058\n",
      "Epoch 6/20\n",
      "1375/1375 [==============================] - 12s 8ms/step - loss: 0.2778 - accuracy: 0.9047 - val_loss: 0.2775 - val_accuracy: 0.9046\n",
      "Epoch 7/20\n",
      "1375/1375 [==============================] - 12s 9ms/step - loss: 0.2693 - accuracy: 0.9082 - val_loss: 0.2733 - val_accuracy: 0.9056\n",
      "Epoch 8/20\n",
      "1375/1375 [==============================] - 13s 10ms/step - loss: 0.2627 - accuracy: 0.9105 - val_loss: 0.2668 - val_accuracy: 0.9076\n",
      "Epoch 9/20\n",
      "1375/1375 [==============================] - 12s 9ms/step - loss: 0.2568 - accuracy: 0.9119 - val_loss: 0.2621 - val_accuracy: 0.9118\n",
      "Epoch 10/20\n",
      "1375/1375 [==============================] - 14s 10ms/step - loss: 0.2519 - accuracy: 0.9138 - val_loss: 0.2601 - val_accuracy: 0.9103\n",
      "Epoch 11/20\n",
      "1375/1375 [==============================] - 16s 11ms/step - loss: 0.2472 - accuracy: 0.9160 - val_loss: 0.2560 - val_accuracy: 0.9133\n",
      "Epoch 12/20\n",
      "1375/1375 [==============================] - 13s 10ms/step - loss: 0.2431 - accuracy: 0.9176 - val_loss: 0.2545 - val_accuracy: 0.9111\n",
      "Epoch 13/20\n",
      "1375/1375 [==============================] - 13s 10ms/step - loss: 0.2395 - accuracy: 0.9181 - val_loss: 0.2485 - val_accuracy: 0.9150\n",
      "Epoch 14/20\n",
      "1375/1375 [==============================] - 11s 8ms/step - loss: 0.2359 - accuracy: 0.9197 - val_loss: 0.2462 - val_accuracy: 0.9155\n",
      "Epoch 15/20\n",
      "1375/1375 [==============================] - 11s 8ms/step - loss: 0.2328 - accuracy: 0.9210 - val_loss: 0.2505 - val_accuracy: 0.9141\n",
      "Epoch 16/20\n",
      "1375/1375 [==============================] - 12s 9ms/step - loss: 0.2294 - accuracy: 0.9218 - val_loss: 0.2412 - val_accuracy: 0.9180\n",
      "Epoch 17/20\n",
      "1375/1375 [==============================] - 11s 8ms/step - loss: 0.2269 - accuracy: 0.9234 - val_loss: 0.2451 - val_accuracy: 0.9165\n",
      "Epoch 18/20\n",
      "1375/1375 [==============================] - 11s 8ms/step - loss: 0.2239 - accuracy: 0.9239 - val_loss: 0.2506 - val_accuracy: 0.9123\n",
      "Epoch 19/20\n",
      "1375/1375 [==============================] - 11s 8ms/step - loss: 0.2214 - accuracy: 0.9255 - val_loss: 0.2374 - val_accuracy: 0.9185\n",
      "Epoch 20/20\n",
      "1375/1375 [==============================] - 13s 9ms/step - loss: 0.2190 - accuracy: 0.9253 - val_loss: 0.2383 - val_accuracy: 0.9175\n"
     ]
    }
   ],
   "source": [
    "history = model_A.fit(X_train_A, y_train_A, epochs=20,\n",
    "                    validation_data=(X_valid_A, y_valid_A))"
   ]
  },
  {
   "cell_type": "code",
   "execution_count": 9,
   "metadata": {},
   "outputs": [],
   "source": [
    "model_A.save(\"my_model_A.h5\")"
   ]
  },
  {
   "cell_type": "code",
   "execution_count": 10,
   "metadata": {},
   "outputs": [],
   "source": [
    "model_B = keras.models.Sequential()\n",
    "model_B.add(keras.layers.Flatten(input_shape=[28, 28]))\n",
    "for n_hidden in (300, 100, 50, 50, 50):\n",
    "    model_B.add(keras.layers.Dense(n_hidden, activation=\"selu\"))\n",
    "model_B.add(keras.layers.Dense(1, activation=\"sigmoid\"))"
   ]
  },
  {
   "cell_type": "code",
   "execution_count": 11,
   "metadata": {},
   "outputs": [],
   "source": [
    "model_B.compile(loss=\"binary_crossentropy\",\n",
    "                optimizer=keras.optimizers.SGD(learning_rate=1e-3),\n",
    "                metrics=[\"accuracy\"])"
   ]
  },
  {
   "cell_type": "code",
   "execution_count": 12,
   "metadata": {},
   "outputs": [
    {
     "name": "stdout",
     "output_type": "stream",
     "text": [
      "Epoch 1/20\n",
      "7/7 [==============================] - 3s 155ms/step - loss: 0.8778 - accuracy: 0.5250 - val_loss: 0.6786 - val_accuracy: 0.6389\n",
      "Epoch 2/20\n",
      "7/7 [==============================] - 0s 58ms/step - loss: 0.5777 - accuracy: 0.7300 - val_loss: 0.4741 - val_accuracy: 0.7840\n",
      "Epoch 3/20\n",
      "7/7 [==============================] - 0s 56ms/step - loss: 0.4059 - accuracy: 0.8250 - val_loss: 0.3671 - val_accuracy: 0.8560\n",
      "Epoch 4/20\n",
      "7/7 [==============================] - 0s 69ms/step - loss: 0.3131 - accuracy: 0.9100 - val_loss: 0.2996 - val_accuracy: 0.8955\n",
      "Epoch 5/20\n",
      "7/7 [==============================] - 0s 53ms/step - loss: 0.2533 - accuracy: 0.9550 - val_loss: 0.2555 - val_accuracy: 0.9239\n",
      "Epoch 6/20\n",
      "7/7 [==============================] - 0s 63ms/step - loss: 0.2131 - accuracy: 0.9650 - val_loss: 0.2210 - val_accuracy: 0.9402\n",
      "Epoch 7/20\n",
      "7/7 [==============================] - 0s 48ms/step - loss: 0.1817 - accuracy: 0.9650 - val_loss: 0.1957 - val_accuracy: 0.9513\n",
      "Epoch 8/20\n",
      "7/7 [==============================] - 0s 58ms/step - loss: 0.1586 - accuracy: 0.9700 - val_loss: 0.1765 - val_accuracy: 0.9645\n",
      "Epoch 9/20\n",
      "7/7 [==============================] - 0s 50ms/step - loss: 0.1405 - accuracy: 0.9700 - val_loss: 0.1609 - val_accuracy: 0.9645\n",
      "Epoch 10/20\n",
      "7/7 [==============================] - 0s 58ms/step - loss: 0.1258 - accuracy: 0.9800 - val_loss: 0.1492 - val_accuracy: 0.9645\n",
      "Epoch 11/20\n",
      "7/7 [==============================] - 0s 51ms/step - loss: 0.1148 - accuracy: 0.9800 - val_loss: 0.1391 - val_accuracy: 0.9716\n",
      "Epoch 12/20\n",
      "7/7 [==============================] - 0s 59ms/step - loss: 0.1056 - accuracy: 0.9800 - val_loss: 0.1306 - val_accuracy: 0.9716\n",
      "Epoch 13/20\n",
      "7/7 [==============================] - 0s 49ms/step - loss: 0.0976 - accuracy: 0.9850 - val_loss: 0.1234 - val_accuracy: 0.9746\n",
      "Epoch 14/20\n",
      "7/7 [==============================] - 0s 62ms/step - loss: 0.0909 - accuracy: 0.9850 - val_loss: 0.1165 - val_accuracy: 0.9757\n",
      "Epoch 15/20\n",
      "7/7 [==============================] - 0s 45ms/step - loss: 0.0845 - accuracy: 0.9850 - val_loss: 0.1106 - val_accuracy: 0.9777\n",
      "Epoch 16/20\n",
      "7/7 [==============================] - 0s 60ms/step - loss: 0.0788 - accuracy: 0.9850 - val_loss: 0.1060 - val_accuracy: 0.9787\n",
      "Epoch 17/20\n",
      "7/7 [==============================] - 0s 52ms/step - loss: 0.0745 - accuracy: 0.9850 - val_loss: 0.1016 - val_accuracy: 0.9787\n",
      "Epoch 18/20\n",
      "7/7 [==============================] - 0s 65ms/step - loss: 0.0706 - accuracy: 0.9850 - val_loss: 0.0980 - val_accuracy: 0.9807\n",
      "Epoch 19/20\n",
      "7/7 [==============================] - 0s 51ms/step - loss: 0.0672 - accuracy: 0.9950 - val_loss: 0.0944 - val_accuracy: 0.9817\n",
      "Epoch 20/20\n",
      "7/7 [==============================] - 0s 54ms/step - loss: 0.0639 - accuracy: 0.9950 - val_loss: 0.0913 - val_accuracy: 0.9817\n"
     ]
    }
   ],
   "source": [
    "history = model_B.fit(X_train_B, y_train_B, epochs=20,\n",
    "                      validation_data=(X_valid_B, y_valid_B))"
   ]
  },
  {
   "cell_type": "code",
   "execution_count": 13,
   "metadata": {},
   "outputs": [],
   "source": [
    "model_A = keras.models.load_model(\"my_model_A.h5\")\n",
    "model_B_on_A = keras.models.Sequential(model_A.layers[:-1])\n",
    "model_B_on_A.add(keras.layers.Dense(1, activation=\"sigmoid\"))"
   ]
  },
  {
   "cell_type": "code",
   "execution_count": 14,
   "metadata": {},
   "outputs": [],
   "source": [
    "model_A_clone = keras.models.clone_model(model_A)\n",
    "model_A_clone.set_weights(model_A.get_weights())"
   ]
  },
  {
   "cell_type": "code",
   "execution_count": 15,
   "metadata": {},
   "outputs": [
    {
     "name": "stderr",
     "output_type": "stream",
     "text": [
      "WARNING:absl:`lr` is deprecated, please use `learning_rate` instead, or use the legacy optimizer, e.g.,tf.keras.optimizers.legacy.SGD.\n"
     ]
    },
    {
     "name": "stdout",
     "output_type": "stream",
     "text": [
      "Epoch 1/16\n",
      "7/7 [==============================] - 3s 156ms/step - loss: 1.0368 - accuracy: 0.4050 - val_loss: 0.5905 - val_accuracy: 0.6927\n",
      "Epoch 2/16\n",
      "7/7 [==============================] - 0s 46ms/step - loss: 0.4489 - accuracy: 0.8050 - val_loss: 0.3198 - val_accuracy: 0.9057\n",
      "Epoch 3/16\n",
      "7/7 [==============================] - 0s 37ms/step - loss: 0.2557 - accuracy: 0.9550 - val_loss: 0.2148 - val_accuracy: 0.9777\n",
      "Epoch 4/16\n",
      "7/7 [==============================] - 0s 46ms/step - loss: 0.1753 - accuracy: 0.9800 - val_loss: 0.1648 - val_accuracy: 0.9888\n",
      "Epoch 5/16\n",
      "7/7 [==============================] - 0s 34ms/step - loss: 0.1345 - accuracy: 0.9900 - val_loss: 0.1348 - val_accuracy: 0.9909\n",
      "Epoch 6/16\n",
      "7/7 [==============================] - 0s 45ms/step - loss: 0.1091 - accuracy: 0.9950 - val_loss: 0.1160 - val_accuracy: 0.9899\n",
      "Epoch 7/16\n",
      "7/7 [==============================] - 0s 34ms/step - loss: 0.0925 - accuracy: 1.0000 - val_loss: 0.1028 - val_accuracy: 0.9909\n",
      "Epoch 8/16\n",
      "7/7 [==============================] - 0s 43ms/step - loss: 0.0807 - accuracy: 1.0000 - val_loss: 0.0925 - val_accuracy: 0.9909\n",
      "Epoch 9/16\n",
      "7/7 [==============================] - 0s 39ms/step - loss: 0.0713 - accuracy: 1.0000 - val_loss: 0.0850 - val_accuracy: 0.9919\n",
      "Epoch 10/16\n",
      "7/7 [==============================] - 0s 33ms/step - loss: 0.0643 - accuracy: 1.0000 - val_loss: 0.0790 - val_accuracy: 0.9929\n",
      "Epoch 11/16\n",
      "7/7 [==============================] - 0s 36ms/step - loss: 0.0586 - accuracy: 1.0000 - val_loss: 0.0737 - val_accuracy: 0.9929\n",
      "Epoch 12/16\n",
      "7/7 [==============================] - 0s 39ms/step - loss: 0.0534 - accuracy: 1.0000 - val_loss: 0.0696 - val_accuracy: 0.9929\n",
      "Epoch 13/16\n",
      "7/7 [==============================] - 0s 41ms/step - loss: 0.0495 - accuracy: 1.0000 - val_loss: 0.0662 - val_accuracy: 0.9919\n",
      "Epoch 14/16\n",
      "7/7 [==============================] - 0s 46ms/step - loss: 0.0461 - accuracy: 1.0000 - val_loss: 0.0631 - val_accuracy: 0.9919\n",
      "Epoch 15/16\n",
      "7/7 [==============================] - 0s 57ms/step - loss: 0.0430 - accuracy: 1.0000 - val_loss: 0.0607 - val_accuracy: 0.9919\n",
      "Epoch 16/16\n",
      "7/7 [==============================] - 0s 54ms/step - loss: 0.0406 - accuracy: 1.0000 - val_loss: 0.0586 - val_accuracy: 0.9919\n"
     ]
    }
   ],
   "source": [
    "for layer in model_B_on_A.layers[:-1]:\n",
    "    layer.trainable = False\n",
    "\n",
    "model_B_on_A.compile(loss=\"binary_crossentropy\",\n",
    "                     optimizer=keras.optimizers.SGD(learning_rate=1e-3),\n",
    "                     metrics=[\"accuracy\"])\n",
    "\n",
    "history = model_B_on_A.fit(X_train_B, y_train_B, epochs=16,\n",
    "                           validation_data=(X_valid_B, y_valid_B))"
   ]
  },
  {
   "cell_type": "code",
   "execution_count": 16,
   "metadata": {},
   "outputs": [
    {
     "name": "stderr",
     "output_type": "stream",
     "text": [
      "WARNING:absl:`lr` is deprecated, please use `learning_rate` instead, or use the legacy optimizer, e.g.,tf.keras.optimizers.legacy.SGD.\n"
     ]
    },
    {
     "name": "stdout",
     "output_type": "stream",
     "text": [
      "Epoch 1/16\n",
      "7/7 [==============================] - 4s 142ms/step - loss: 0.0334 - accuracy: 1.0000 - val_loss: 0.0453 - val_accuracy: 0.9919\n",
      "Epoch 2/16\n",
      "7/7 [==============================] - 0s 47ms/step - loss: 0.0223 - accuracy: 1.0000 - val_loss: 0.0395 - val_accuracy: 0.9909\n",
      "Epoch 3/16\n",
      "7/7 [==============================] - 0s 46ms/step - loss: 0.0169 - accuracy: 1.0000 - val_loss: 0.0349 - val_accuracy: 0.9909\n",
      "Epoch 4/16\n",
      "7/7 [==============================] - 0s 46ms/step - loss: 0.0135 - accuracy: 1.0000 - val_loss: 0.0331 - val_accuracy: 0.9909\n",
      "Epoch 5/16\n",
      "7/7 [==============================] - 0s 49ms/step - loss: 0.0111 - accuracy: 1.0000 - val_loss: 0.0317 - val_accuracy: 0.9909\n",
      "Epoch 6/16\n",
      "7/7 [==============================] - 0s 39ms/step - loss: 0.0095 - accuracy: 1.0000 - val_loss: 0.0306 - val_accuracy: 0.9909\n",
      "Epoch 7/16\n",
      "7/7 [==============================] - 0s 60ms/step - loss: 0.0084 - accuracy: 1.0000 - val_loss: 0.0304 - val_accuracy: 0.9888\n",
      "Epoch 8/16\n",
      "7/7 [==============================] - 0s 47ms/step - loss: 0.0075 - accuracy: 1.0000 - val_loss: 0.0296 - val_accuracy: 0.9888\n",
      "Epoch 9/16\n",
      "7/7 [==============================] - 0s 44ms/step - loss: 0.0068 - accuracy: 1.0000 - val_loss: 0.0288 - val_accuracy: 0.9888\n",
      "Epoch 10/16\n",
      "7/7 [==============================] - 0s 36ms/step - loss: 0.0062 - accuracy: 1.0000 - val_loss: 0.0283 - val_accuracy: 0.9888\n",
      "Epoch 11/16\n",
      "7/7 [==============================] - 0s 39ms/step - loss: 0.0057 - accuracy: 1.0000 - val_loss: 0.0280 - val_accuracy: 0.9888\n",
      "Epoch 12/16\n",
      "7/7 [==============================] - 0s 33ms/step - loss: 0.0052 - accuracy: 1.0000 - val_loss: 0.0275 - val_accuracy: 0.9888\n",
      "Epoch 13/16\n",
      "7/7 [==============================] - 0s 41ms/step - loss: 0.0048 - accuracy: 1.0000 - val_loss: 0.0273 - val_accuracy: 0.9888\n",
      "Epoch 14/16\n",
      "7/7 [==============================] - 0s 36ms/step - loss: 0.0045 - accuracy: 1.0000 - val_loss: 0.0273 - val_accuracy: 0.9888\n",
      "Epoch 15/16\n",
      "7/7 [==============================] - 0s 38ms/step - loss: 0.0041 - accuracy: 1.0000 - val_loss: 0.0267 - val_accuracy: 0.9888\n",
      "Epoch 16/16\n",
      "7/7 [==============================] - 0s 41ms/step - loss: 0.0039 - accuracy: 1.0000 - val_loss: 0.0265 - val_accuracy: 0.9888\n"
     ]
    }
   ],
   "source": [
    "for layer in model_B_on_A.layers[:-1]:\n",
    "    layer.trainable = True\n",
    "\n",
    "model_B_on_A.compile(loss=\"binary_crossentropy\",\n",
    "                     optimizer=keras.optimizers.SGD(learning_rate=1e-3),\n",
    "                     metrics=[\"accuracy\"])\n",
    "history = model_B_on_A.fit(X_train_B, y_train_B, epochs=16,\n",
    "                           validation_data=(X_valid_B, y_valid_B))"
   ]
  },
  {
   "cell_type": "markdown",
   "metadata": {},
   "source": [
    "### Acurácia dos modelos:"
   ]
  },
  {
   "cell_type": "code",
   "execution_count": 17,
   "metadata": {},
   "outputs": [
    {
     "name": "stdout",
     "output_type": "stream",
     "text": [
      "63/63 [==============================] - 0s 5ms/step - loss: 0.0854 - accuracy: 0.9870\n"
     ]
    },
    {
     "data": {
      "text/plain": [
       "[0.08536037802696228, 0.9869999885559082]"
      ]
     },
     "execution_count": 17,
     "metadata": {},
     "output_type": "execute_result"
    }
   ],
   "source": [
    "model_B.evaluate(X_test_B, y_test_B)"
   ]
  },
  {
   "cell_type": "code",
   "execution_count": 18,
   "metadata": {
    "scrolled": true
   },
   "outputs": [
    {
     "name": "stdout",
     "output_type": "stream",
     "text": [
      "63/63 [==============================] - 0s 4ms/step - loss: 0.0147 - accuracy: 0.9965\n"
     ]
    },
    {
     "data": {
      "text/plain": [
       "[0.014696472324430943, 0.9965000152587891]"
      ]
     },
     "execution_count": 18,
     "metadata": {},
     "output_type": "execute_result"
    }
   ],
   "source": [
    "model_B_on_A.evaluate(X_test_B, y_test_B)"
   ]
  }
 ],
 "metadata": {
  "kernelspec": {
   "display_name": "Python 3 (ipykernel)",
   "language": "python",
   "name": "python3"
  },
  "language_info": {
   "codemirror_mode": {
    "name": "ipython",
    "version": 3
   },
   "file_extension": ".py",
   "mimetype": "text/x-python",
   "name": "python",
   "nbconvert_exporter": "python",
   "pygments_lexer": "ipython3",
   "version": "3.9.13"
  },
  "nav_menu": {
   "height": "360px",
   "width": "416px"
  },
  "toc": {
   "navigate_menu": true,
   "number_sections": true,
   "sideBar": true,
   "threshold": 6,
   "toc_cell": false,
   "toc_section_display": "block",
   "toc_window_display": false
  }
 },
 "nbformat": 4,
 "nbformat_minor": 4
}
