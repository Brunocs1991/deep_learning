{
 "cells": [
  {
   "cell_type": "markdown",
   "metadata": {},
   "source": [
    "## Modelo de visão computacional com a base de dados CIFAR-10"
   ]
  },
  {
   "cell_type": "code",
   "execution_count": 1,
   "metadata": {},
   "outputs": [],
   "source": [
    "# Python ≥3.5 é necessário\n",
    "import sys\n",
    "assert sys.version_info >= (3, 5)\n",
    "\n",
    "# Scikit-Learn ≥0.20 é necessário\n",
    "import sklearn\n",
    "assert sklearn.__version__ >= \"0.20\"\n",
    "\n",
    "try:\n",
    "    %tensorflow_version 2.x\n",
    "except Exception:\n",
    "    pass\n",
    "\n",
    "# TensorFlow ≥2.0 é necessário\n",
    "import tensorflow as tf\n",
    "from tensorflow import keras\n",
    "assert tf.__version__ >= \"2.0\"\n",
    "\n",
    "%load_ext tensorboard\n",
    "\n",
    "import numpy as np\n",
    "import os\n",
    "\n",
    "np.random.seed(42)\n",
    "tf.random.set_seed(42)"
   ]
  },
  {
   "cell_type": "code",
   "execution_count": 2,
   "metadata": {},
   "outputs": [],
   "source": [
    "keras.backend.clear_session()\n",
    "tf.random.set_seed(42)\n",
    "np.random.seed(42)\n",
    "\n",
    "model = keras.models.Sequential()\n",
    "model.add(keras.layers.Flatten(input_shape=[32, 32, 3]))\n",
    "for _ in range(20):\n",
    "    model.add(keras.layers.Dense(100,\n",
    "                                 activation=\"elu\",\n",
    "                                 kernel_initializer=\"he_normal\"))"
   ]
  },
  {
   "cell_type": "code",
   "execution_count": 3,
   "metadata": {},
   "outputs": [],
   "source": [
    "model.add(keras.layers.Dense(10, activation=\"softmax\"))"
   ]
  },
  {
   "cell_type": "code",
   "execution_count": 4,
   "metadata": {},
   "outputs": [],
   "source": [
    "model.compile(loss=\"sparse_categorical_crossentropy\",\n",
    "              metrics=[\"accuracy\"])"
   ]
  },
  {
   "cell_type": "code",
   "execution_count": 5,
   "metadata": {},
   "outputs": [
    {
     "name": "stdout",
     "output_type": "stream",
     "text": [
      "Downloading data from https://www.cs.toronto.edu/~kriz/cifar-10-python.tar.gz\n",
      "170498071/170498071 [==============================] - 10s 0us/step\n"
     ]
    }
   ],
   "source": [
    "(X_train_full, y_train_full), (X_test, y_test) = keras.datasets.cifar10.load_data()\n",
    "\n",
    "X_train = X_train_full[5000:]\n",
    "y_train = y_train_full[5000:]\n",
    "X_valid = X_train_full[:5000]\n",
    "y_valid = y_train_full[:5000]"
   ]
  },
  {
   "cell_type": "code",
   "execution_count": 6,
   "metadata": {},
   "outputs": [
    {
     "name": "stdout",
     "output_type": "stream",
     "text": [
      "Epoch 1/100\n",
      "1407/1407 [==============================] - 16s 10ms/step - loss: 6.2769 - accuracy: 0.1024 - val_loss: 2.3220 - val_accuracy: 0.1038\n",
      "Epoch 2/100\n",
      "1407/1407 [==============================] - 13s 10ms/step - loss: 2.3178 - accuracy: 0.1026 - val_loss: 2.3286 - val_accuracy: 0.1038\n",
      "Epoch 3/100\n",
      "1407/1407 [==============================] - 14s 10ms/step - loss: 2.3160 - accuracy: 0.0987 - val_loss: 2.3365 - val_accuracy: 0.0920\n",
      "Epoch 4/100\n",
      "1407/1407 [==============================] - 14s 10ms/step - loss: 2.3162 - accuracy: 0.0955 - val_loss: 2.3352 - val_accuracy: 0.0996\n",
      "Epoch 5/100\n",
      "1407/1407 [==============================] - 14s 10ms/step - loss: 2.3165 - accuracy: 0.0998 - val_loss: 2.3260 - val_accuracy: 0.1010\n",
      "Epoch 6/100\n",
      "1407/1407 [==============================] - 16s 12ms/step - loss: 2.3167 - accuracy: 0.0992 - val_loss: 2.3205 - val_accuracy: 0.1038\n",
      "Epoch 7/100\n",
      "1407/1407 [==============================] - 16s 11ms/step - loss: 2.3158 - accuracy: 0.1014 - val_loss: 2.3160 - val_accuracy: 0.1038\n",
      "Epoch 8/100\n",
      "1407/1407 [==============================] - 14s 10ms/step - loss: 2.3161 - accuracy: 0.0996 - val_loss: 2.3137 - val_accuracy: 0.1040\n",
      "Epoch 9/100\n",
      "1407/1407 [==============================] - 17s 12ms/step - loss: 2.3163 - accuracy: 0.0998 - val_loss: 2.3324 - val_accuracy: 0.0976\n",
      "Epoch 10/100\n",
      "1407/1407 [==============================] - 17s 12ms/step - loss: 2.3163 - accuracy: 0.0986 - val_loss: 2.3472 - val_accuracy: 0.0996\n",
      "Epoch 11/100\n",
      "1407/1407 [==============================] - 16s 11ms/step - loss: 2.3161 - accuracy: 0.0988 - val_loss: 2.3396 - val_accuracy: 0.0976\n",
      "Epoch 12/100\n",
      "1407/1407 [==============================] - 15s 10ms/step - loss: 2.3161 - accuracy: 0.0997 - val_loss: 2.3230 - val_accuracy: 0.1038\n",
      "Epoch 13/100\n",
      "1407/1407 [==============================] - 15s 10ms/step - loss: 2.3167 - accuracy: 0.1007 - val_loss: 2.3233 - val_accuracy: 0.0972\n",
      "Epoch 14/100\n",
      "1407/1407 [==============================] - 14s 10ms/step - loss: 2.3155 - accuracy: 0.1018 - val_loss: 2.3298 - val_accuracy: 0.0972\n",
      "Epoch 15/100\n",
      "1407/1407 [==============================] - 15s 10ms/step - loss: 2.3167 - accuracy: 0.0982 - val_loss: 2.3136 - val_accuracy: 0.0996\n",
      "Epoch 16/100\n",
      "1407/1407 [==============================] - 15s 11ms/step - loss: 2.3166 - accuracy: 0.1006 - val_loss: 2.3290 - val_accuracy: 0.0996\n",
      "Epoch 17/100\n",
      "1407/1407 [==============================] - 15s 10ms/step - loss: 2.3241 - accuracy: 0.1016 - val_loss: 2.3338 - val_accuracy: 0.1038\n",
      "Epoch 18/100\n",
      "1407/1407 [==============================] - 14s 10ms/step - loss: 2.3162 - accuracy: 0.1004 - val_loss: 2.3222 - val_accuracy: 0.0972\n",
      "Epoch 19/100\n",
      "1407/1407 [==============================] - 14s 10ms/step - loss: 2.3190 - accuracy: 0.0986 - val_loss: 2.3248 - val_accuracy: 0.0996\n",
      "Epoch 20/100\n",
      "1407/1407 [==============================] - 14s 10ms/step - loss: 2.3156 - accuracy: 0.1050 - val_loss: 2.3358 - val_accuracy: 0.0976\n",
      "Epoch 21/100\n",
      "1407/1407 [==============================] - 14s 10ms/step - loss: 2.3169 - accuracy: 0.0973 - val_loss: 2.3605 - val_accuracy: 0.0972\n",
      "Epoch 22/100\n",
      "1407/1407 [==============================] - 14s 10ms/step - loss: 2.3160 - accuracy: 0.0990 - val_loss: 2.3194 - val_accuracy: 0.1008\n",
      "Epoch 23/100\n",
      "1407/1407 [==============================] - 14s 10ms/step - loss: 2.3164 - accuracy: 0.0989 - val_loss: 2.3621 - val_accuracy: 0.0976\n",
      "Epoch 24/100\n",
      "1407/1407 [==============================] - 14s 10ms/step - loss: 2.3166 - accuracy: 0.1016 - val_loss: 2.3264 - val_accuracy: 0.0996\n",
      "Epoch 25/100\n",
      "1407/1407 [==============================] - 14s 10ms/step - loss: 2.3162 - accuracy: 0.0997 - val_loss: 2.3343 - val_accuracy: 0.0972\n",
      "Epoch 26/100\n",
      "1407/1407 [==============================] - 13s 9ms/step - loss: 2.3160 - accuracy: 0.1003 - val_loss: 2.3228 - val_accuracy: 0.1010\n",
      "Epoch 27/100\n",
      "1407/1407 [==============================] - 14s 10ms/step - loss: 2.3016 - accuracy: 0.1164 - val_loss: 2.3369 - val_accuracy: 0.1414\n",
      "Epoch 28/100\n",
      "1407/1407 [==============================] - 15s 11ms/step - loss: 2.2658 - accuracy: 0.1249 - val_loss: 2.2116 - val_accuracy: 0.1106\n",
      "Epoch 29/100\n",
      "1407/1407 [==============================] - 15s 11ms/step - loss: 2.1755 - accuracy: 0.1584 - val_loss: 2.1197 - val_accuracy: 0.1870\n",
      "Epoch 30/100\n",
      "1407/1407 [==============================] - 15s 11ms/step - loss: 2.1594 - accuracy: 0.1613 - val_loss: 2.2452 - val_accuracy: 0.1164\n",
      "Epoch 31/100\n",
      "1407/1407 [==============================] - 15s 11ms/step - loss: 2.1127 - accuracy: 0.1830 - val_loss: 2.1049 - val_accuracy: 0.1696\n",
      "Epoch 32/100\n",
      "1407/1407 [==============================] - 15s 11ms/step - loss: 2.0980 - accuracy: 0.1851 - val_loss: 2.1164 - val_accuracy: 0.1702\n",
      "Epoch 33/100\n",
      "1407/1407 [==============================] - 15s 11ms/step - loss: 2.0949 - accuracy: 0.1852 - val_loss: 2.0855 - val_accuracy: 0.1968\n",
      "Epoch 34/100\n",
      "1407/1407 [==============================] - 15s 11ms/step - loss: 2.3097 - accuracy: 0.1879 - val_loss: 2.1062 - val_accuracy: 0.1754\n",
      "Epoch 35/100\n",
      "1407/1407 [==============================] - 15s 11ms/step - loss: 2.0559 - accuracy: 0.1910 - val_loss: 2.1948 - val_accuracy: 0.1466\n",
      "Epoch 36/100\n",
      "1407/1407 [==============================] - 15s 11ms/step - loss: 2.0467 - accuracy: 0.1918 - val_loss: 2.2140 - val_accuracy: 0.1734\n",
      "Epoch 37/100\n",
      "1407/1407 [==============================] - 16s 12ms/step - loss: 2.0724 - accuracy: 0.1858 - val_loss: 2.0546 - val_accuracy: 0.1798\n",
      "Epoch 38/100\n",
      "1407/1407 [==============================] - 15s 11ms/step - loss: 2.0454 - accuracy: 0.1888 - val_loss: 2.0870 - val_accuracy: 0.1774\n",
      "Epoch 39/100\n",
      "1407/1407 [==============================] - 15s 11ms/step - loss: 2.0451 - accuracy: 0.1883 - val_loss: 2.0634 - val_accuracy: 0.1964\n",
      "Epoch 40/100\n",
      "1407/1407 [==============================] - 15s 11ms/step - loss: 2.0551 - accuracy: 0.1863 - val_loss: 2.0516 - val_accuracy: 0.2040\n",
      "Epoch 41/100\n",
      "1407/1407 [==============================] - 15s 11ms/step - loss: 2.0434 - accuracy: 0.1886 - val_loss: 2.0621 - val_accuracy: 0.1870\n",
      "Epoch 42/100\n",
      "1407/1407 [==============================] - 15s 10ms/step - loss: 2.0453 - accuracy: 0.1896 - val_loss: 2.0404 - val_accuracy: 0.1928\n",
      "Epoch 43/100\n",
      "1407/1407 [==============================] - 15s 10ms/step - loss: 2.0433 - accuracy: 0.1907 - val_loss: 2.0339 - val_accuracy: 0.2070\n",
      "Epoch 44/100\n",
      "1407/1407 [==============================] - 15s 10ms/step - loss: 2.0366 - accuracy: 0.1929 - val_loss: 2.0771 - val_accuracy: 0.1758\n",
      "Epoch 45/100\n",
      "1407/1407 [==============================] - 15s 11ms/step - loss: 2.0336 - accuracy: 0.1928 - val_loss: 2.0591 - val_accuracy: 0.1794\n",
      "Epoch 46/100\n",
      "1407/1407 [==============================] - 15s 11ms/step - loss: 2.0323 - accuracy: 0.1878 - val_loss: 2.0582 - val_accuracy: 0.1952\n",
      "Epoch 47/100\n",
      "1407/1407 [==============================] - 15s 11ms/step - loss: 2.0320 - accuracy: 0.1935 - val_loss: 2.0335 - val_accuracy: 0.2002\n",
      "Epoch 48/100\n",
      "1407/1407 [==============================] - 15s 11ms/step - loss: 2.0496 - accuracy: 0.1968 - val_loss: 2.0984 - val_accuracy: 0.1688\n",
      "Epoch 49/100\n",
      "1407/1407 [==============================] - 16s 11ms/step - loss: 2.8805 - accuracy: 0.1941 - val_loss: 2.0493 - val_accuracy: 0.1632\n",
      "Epoch 50/100\n",
      "1407/1407 [==============================] - 15s 11ms/step - loss: 2.1809 - accuracy: 0.1868 - val_loss: 2.0863 - val_accuracy: 0.1534\n",
      "Epoch 51/100\n",
      "1407/1407 [==============================] - 15s 11ms/step - loss: 2.0375 - accuracy: 0.1865 - val_loss: 2.0450 - val_accuracy: 0.1720\n",
      "Epoch 52/100\n",
      "1407/1407 [==============================] - 17s 12ms/step - loss: 2.0323 - accuracy: 0.1928 - val_loss: 2.1270 - val_accuracy: 0.1800\n",
      "Epoch 53/100\n",
      "1407/1407 [==============================] - 15s 10ms/step - loss: 2.0356 - accuracy: 0.1868 - val_loss: 2.0812 - val_accuracy: 0.1812\n",
      "Epoch 54/100\n",
      "1407/1407 [==============================] - 14s 10ms/step - loss: 2.2700 - accuracy: 0.1801 - val_loss: 2.0623 - val_accuracy: 0.1650\n",
      "Epoch 55/100\n",
      "1407/1407 [==============================] - 17s 12ms/step - loss: 2.0430 - accuracy: 0.1863 - val_loss: 2.1589 - val_accuracy: 0.1634\n",
      "Epoch 56/100\n",
      "1407/1407 [==============================] - 17s 12ms/step - loss: 2.0377 - accuracy: 0.1848 - val_loss: 2.0539 - val_accuracy: 0.1858\n",
      "Epoch 57/100\n",
      "1407/1407 [==============================] - 16s 11ms/step - loss: 2.2181 - accuracy: 0.1880 - val_loss: 2.0841 - val_accuracy: 0.1800\n",
      "Epoch 58/100\n",
      "1407/1407 [==============================] - 15s 11ms/step - loss: 2.0383 - accuracy: 0.1911 - val_loss: 2.0984 - val_accuracy: 0.1906\n",
      "Epoch 59/100\n",
      "1407/1407 [==============================] - 14s 10ms/step - loss: 2.0241 - accuracy: 0.1908 - val_loss: 2.0605 - val_accuracy: 0.1776\n",
      "Epoch 60/100\n",
      "1407/1407 [==============================] - 14s 10ms/step - loss: 2.0271 - accuracy: 0.1907 - val_loss: 2.0719 - val_accuracy: 0.1590\n",
      "Epoch 61/100\n",
      "1407/1407 [==============================] - 14s 10ms/step - loss: 2.0453 - accuracy: 0.1941 - val_loss: 2.0618 - val_accuracy: 0.1728\n",
      "Epoch 62/100\n",
      "1407/1407 [==============================] - 15s 11ms/step - loss: 2.0377 - accuracy: 0.1901 - val_loss: 2.0780 - val_accuracy: 0.1828\n",
      "Epoch 63/100\n",
      "1407/1407 [==============================] - 16s 11ms/step - loss: 2.1497 - accuracy: 0.1966 - val_loss: 2.0569 - val_accuracy: 0.1734\n",
      "Epoch 64/100\n",
      "1407/1407 [==============================] - 16s 11ms/step - loss: 2.0146 - accuracy: 0.2014 - val_loss: 2.0130 - val_accuracy: 0.2110\n",
      "Epoch 65/100\n",
      "1407/1407 [==============================] - 16s 11ms/step - loss: 2.0142 - accuracy: 0.2062 - val_loss: 2.0110 - val_accuracy: 0.2208\n",
      "Epoch 66/100\n",
      "1407/1407 [==============================] - 21s 15ms/step - loss: 1.9945 - accuracy: 0.2222 - val_loss: 2.1509 - val_accuracy: 0.1944\n",
      "Epoch 67/100\n",
      "1407/1407 [==============================] - 19s 14ms/step - loss: 1.9810 - accuracy: 0.2276 - val_loss: 1.9599 - val_accuracy: 0.2390\n",
      "Epoch 68/100\n",
      "1407/1407 [==============================] - 20s 14ms/step - loss: 1.9802 - accuracy: 0.2241 - val_loss: 1.9976 - val_accuracy: 0.2034\n",
      "Epoch 69/100\n",
      "1407/1407 [==============================] - 15s 10ms/step - loss: 2.1725 - accuracy: 0.2239 - val_loss: 1.9487 - val_accuracy: 0.2244\n",
      "Epoch 70/100\n",
      "1407/1407 [==============================] - 16s 11ms/step - loss: 1.9687 - accuracy: 0.2277 - val_loss: 1.9906 - val_accuracy: 0.2304\n",
      "Epoch 71/100\n",
      "1407/1407 [==============================] - 15s 11ms/step - loss: 1.9725 - accuracy: 0.2293 - val_loss: 1.9756 - val_accuracy: 0.2428\n",
      "Epoch 72/100\n",
      "1407/1407 [==============================] - 14s 10ms/step - loss: 1.9587 - accuracy: 0.2377 - val_loss: 1.9474 - val_accuracy: 0.2474\n",
      "Epoch 73/100\n",
      "1407/1407 [==============================] - 16s 11ms/step - loss: 1.9607 - accuracy: 0.2377 - val_loss: 2.0012 - val_accuracy: 0.2230\n",
      "Epoch 74/100\n",
      "1407/1407 [==============================] - 15s 11ms/step - loss: 1.9521 - accuracy: 0.2386 - val_loss: 1.9377 - val_accuracy: 0.2490\n",
      "Epoch 75/100\n",
      "1407/1407 [==============================] - 15s 11ms/step - loss: 1.9446 - accuracy: 0.2417 - val_loss: 1.9349 - val_accuracy: 0.2448\n",
      "Epoch 76/100\n",
      "1407/1407 [==============================] - 16s 11ms/step - loss: 1.9783 - accuracy: 0.2462 - val_loss: 1.9556 - val_accuracy: 0.2350\n",
      "Epoch 77/100\n",
      "1407/1407 [==============================] - 16s 11ms/step - loss: 1.9292 - accuracy: 0.2524 - val_loss: 2.0742 - val_accuracy: 0.2158\n",
      "Epoch 78/100\n",
      "1407/1407 [==============================] - 18s 13ms/step - loss: 1.9592 - accuracy: 0.2492 - val_loss: 1.9936 - val_accuracy: 0.2394\n",
      "Epoch 79/100\n",
      "1407/1407 [==============================] - 16s 11ms/step - loss: 1.9317 - accuracy: 0.2454 - val_loss: 2.0267 - val_accuracy: 0.1990\n",
      "Epoch 80/100\n",
      "1407/1407 [==============================] - 19s 14ms/step - loss: 2.0815 - accuracy: 0.2471 - val_loss: 1.9225 - val_accuracy: 0.2556\n",
      "Epoch 81/100\n",
      "1407/1407 [==============================] - 14s 10ms/step - loss: 4.5866 - accuracy: 0.2534 - val_loss: 1.9168 - val_accuracy: 0.2456\n",
      "Epoch 82/100\n",
      "1407/1407 [==============================] - 14s 10ms/step - loss: 1.9210 - accuracy: 0.2537 - val_loss: 1.9577 - val_accuracy: 0.2516\n",
      "Epoch 83/100\n",
      "1407/1407 [==============================] - 16s 11ms/step - loss: 4.2341 - accuracy: 0.2560 - val_loss: 1.9325 - val_accuracy: 0.2486\n",
      "Epoch 84/100\n",
      "1407/1407 [==============================] - 17s 12ms/step - loss: 1.9816 - accuracy: 0.2568 - val_loss: 1.9346 - val_accuracy: 0.2406\n",
      "Epoch 85/100\n",
      "1407/1407 [==============================] - 17s 12ms/step - loss: 15.2343 - accuracy: 0.2566 - val_loss: 2.0217 - val_accuracy: 0.2220\n",
      "Epoch 86/100\n",
      "1407/1407 [==============================] - 16s 11ms/step - loss: 1.9201 - accuracy: 0.2561 - val_loss: 1.9600 - val_accuracy: 0.2474\n",
      "Epoch 87/100\n",
      "1407/1407 [==============================] - 15s 10ms/step - loss: 1.9172 - accuracy: 0.2574 - val_loss: 1.9532 - val_accuracy: 0.2582\n",
      "Epoch 88/100\n",
      "1407/1407 [==============================] - 14s 10ms/step - loss: 1.9195 - accuracy: 0.2584 - val_loss: 1.9755 - val_accuracy: 0.2402\n",
      "Epoch 89/100\n",
      "1407/1407 [==============================] - 14s 10ms/step - loss: 11.1955 - accuracy: 0.2547 - val_loss: 1.9216 - val_accuracy: 0.2602\n",
      "Epoch 90/100\n",
      "1407/1407 [==============================] - 14s 10ms/step - loss: 1.9117 - accuracy: 0.2583 - val_loss: 1.9457 - val_accuracy: 0.2668\n",
      "Epoch 91/100\n",
      "1407/1407 [==============================] - 14s 10ms/step - loss: 2.0801 - accuracy: 0.2595 - val_loss: 1.9982 - val_accuracy: 0.2360\n",
      "Epoch 92/100\n",
      "1407/1407 [==============================] - 14s 10ms/step - loss: 1.9296 - accuracy: 0.2611 - val_loss: 1.9658 - val_accuracy: 0.2212\n",
      "Epoch 93/100\n",
      "1407/1407 [==============================] - 14s 10ms/step - loss: 2.8251 - accuracy: 0.2598 - val_loss: 1.8883 - val_accuracy: 0.2666\n",
      "Epoch 94/100\n",
      "1407/1407 [==============================] - 14s 10ms/step - loss: 1.9560 - accuracy: 0.2656 - val_loss: 1.9116 - val_accuracy: 0.2610\n",
      "Epoch 95/100\n",
      "1407/1407 [==============================] - 14s 10ms/step - loss: 21.6123 - accuracy: 0.2566 - val_loss: 2.0825 - val_accuracy: 0.2372\n",
      "Epoch 96/100\n",
      "1407/1407 [==============================] - 15s 10ms/step - loss: 25.5115 - accuracy: 0.2555 - val_loss: 1.9586 - val_accuracy: 0.2426\n",
      "Epoch 97/100\n",
      "1407/1407 [==============================] - 14s 10ms/step - loss: 2.5001 - accuracy: 0.2582 - val_loss: 1.9306 - val_accuracy: 0.2458\n",
      "Epoch 98/100\n",
      "1407/1407 [==============================] - 16s 11ms/step - loss: 1.9034 - accuracy: 0.2620 - val_loss: 2.0116 - val_accuracy: 0.2246\n",
      "Epoch 99/100\n",
      "1407/1407 [==============================] - 16s 12ms/step - loss: 1.9146 - accuracy: 0.2635 - val_loss: 1.9432 - val_accuracy: 0.2568\n",
      "Epoch 100/100\n",
      "1407/1407 [==============================] - 16s 11ms/step - loss: 1.9143 - accuracy: 0.2627 - val_loss: 1.9707 - val_accuracy: 0.2374\n"
     ]
    },
    {
     "data": {
      "text/plain": [
       "<keras.callbacks.History at 0x1f062086370>"
      ]
     },
     "execution_count": 6,
     "metadata": {},
     "output_type": "execute_result"
    }
   ],
   "source": [
    "model.fit(X_train, y_train, epochs=100,\n",
    "          validation_data=(X_valid, y_valid))"
   ]
  },
  {
   "cell_type": "code",
   "execution_count": 7,
   "metadata": {},
   "outputs": [
    {
     "name": "stdout",
     "output_type": "stream",
     "text": [
      "157/157 [==============================] - 1s 3ms/step - loss: 1.9707 - accuracy: 0.2374\n"
     ]
    },
    {
     "data": {
      "text/plain": [
       "[1.970688819885254, 0.23739999532699585]"
      ]
     },
     "execution_count": 7,
     "metadata": {},
     "output_type": "execute_result"
    }
   ],
   "source": [
    "model.evaluate(X_valid, y_valid)"
   ]
  },
  {
   "cell_type": "code",
   "execution_count": 8,
   "metadata": {},
   "outputs": [],
   "source": [
    "model.save(\"my_cifar10_model.h5\")"
   ]
  }
 ],
 "metadata": {
  "kernelspec": {
   "display_name": "Python 3 (ipykernel)",
   "language": "python",
   "name": "python3"
  },
  "language_info": {
   "codemirror_mode": {
    "name": "ipython",
    "version": 3
   },
   "file_extension": ".py",
   "mimetype": "text/x-python",
   "name": "python",
   "nbconvert_exporter": "python",
   "pygments_lexer": "ipython3",
   "version": "3.9.13"
  },
  "nav_menu": {
   "height": "360px",
   "width": "416px"
  },
  "toc": {
   "navigate_menu": true,
   "number_sections": true,
   "sideBar": true,
   "threshold": 6,
   "toc_cell": false,
   "toc_section_display": "block",
   "toc_window_display": false
  }
 },
 "nbformat": 4,
 "nbformat_minor": 4
}
