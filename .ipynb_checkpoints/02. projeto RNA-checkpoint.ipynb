{
 "cells": [
  {
   "cell_type": "markdown",
   "id": "3d457af7-f8f6-4b83-ba05-92cab4e47689",
   "metadata": {},
   "source": [
    "## Projetando uma rede Neural Artificial"
   ]
  },
  {
   "cell_type": "code",
   "execution_count": null,
   "id": "b37f1e6c-9a44-4b1c-8d3b-7c68f1d98cec",
   "metadata": {},
   "outputs": [],
   "source": [
    "#Carrega bibliotecas\n",
    "pip install keras\n",
    "pip install tensorflow\n",
    "from keras import models\n",
    "from keras import layers"
   ]
  },
  {
   "cell_type": "code",
   "execution_count": null,
   "id": "208cd028-c308-4594-9624-1e5d44ec64f0",
   "metadata": {},
   "outputs": [],
   "source": [
    "pip install tensorflow"
   ]
  },
  {
   "cell_type": "code",
   "execution_count": null,
   "id": "eeee6f41-8061-415a-9df4-b88478eb0a3f",
   "metadata": {},
   "outputs": [],
   "source": []
  }
 ],
 "metadata": {
  "kernelspec": {
   "display_name": "Python 3 (ipykernel)",
   "language": "python",
   "name": "python3"
  },
  "language_info": {
   "codemirror_mode": {
    "name": "ipython",
    "version": 3
   },
   "file_extension": ".py",
   "mimetype": "text/x-python",
   "name": "python",
   "nbconvert_exporter": "python",
   "pygments_lexer": "ipython3",
   "version": "3.9.13"
  }
 },
 "nbformat": 4,
 "nbformat_minor": 5
}
