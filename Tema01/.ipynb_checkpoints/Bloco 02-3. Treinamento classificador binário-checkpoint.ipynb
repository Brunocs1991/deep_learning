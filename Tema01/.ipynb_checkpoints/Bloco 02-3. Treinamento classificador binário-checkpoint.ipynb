{
 "cells": [
  {
   "cell_type": "markdown",
   "metadata": {},
   "source": [
    "### Etapas para o treinamento de um classificador binário"
   ]
  },
  {
   "cell_type": "code",
   "execution_count": 12,
   "metadata": {},
   "outputs": [],
   "source": [
    "# Carregar as bibliotecas\n",
    "import numpy as np\n",
    "from keras.datasets import imdb\n",
    "from keras.preprocessing.text import Tokenizer\n",
    "from keras import models\n",
    "from keras import layers\n",
    "import warnings\n",
    "warnings.filterwarnings('ignore')"
   ]
  },
  {
   "cell_type": "code",
   "execution_count": 13,
   "metadata": {},
   "outputs": [],
   "source": [
    "# Resetar o gerador de números randômicos\n",
    "np.random.seed(0)"
   ]
  },
  {
   "cell_type": "code",
   "execution_count": 14,
   "metadata": {},
   "outputs": [],
   "source": [
    "# Definir o número de atributos (features)\n",
    "number_of_features = 1000"
   ]
  },
  {
   "cell_type": "code",
   "execution_count": 15,
   "metadata": {},
   "outputs": [],
   "source": [
    "# Carregar os dados (conjunto de dados de avalição de filmes)\n",
    "(data_train, target_train), (data_test, target_test) = imdb.load_data(num_words=number_of_features)"
   ]
  },
  {
   "cell_type": "code",
   "execution_count": 16,
   "metadata": {},
   "outputs": [],
   "source": [
    "# Converter o formato dos dados para uma matriz de features\n",
    "tokenizer = Tokenizer(num_words=number_of_features)\n",
    "features_train = tokenizer.sequences_to_matrix(data_train, mode=\"binary\")\n",
    "features_test = tokenizer.sequences_to_matrix(data_test, mode=\"binary\")"
   ]
  },
  {
   "cell_type": "code",
   "execution_count": 17,
   "metadata": {},
   "outputs": [],
   "source": [
    "# instancia a rede neural\n",
    "network = models.Sequential()"
   ]
  },
  {
   "cell_type": "code",
   "execution_count": 18,
   "metadata": {},
   "outputs": [],
   "source": [
    "# Adicionar a primeira camada, com a função de ativação ReLU\n",
    "network.add(layers.Dense(units=16, activation=\"relu\", input_shape=(\n",
    "number_of_features,)))"
   ]
  },
  {
   "cell_type": "code",
   "execution_count": 19,
   "metadata": {},
   "outputs": [],
   "source": [
    "# Adicionar a segunda camada, com a função de ativação ReLU\n",
    "network.add(layers.Dense(units=16, activation=\"relu\"))"
   ]
  },
  {
   "cell_type": "code",
   "execution_count": 20,
   "metadata": {},
   "outputs": [],
   "source": [
    "# Adicionar a terceira camada, com a função de ativação sigmoid\n",
    "network.add(layers.Dense(units=1, activation=\"sigmoid\"))"
   ]
  },
  {
   "cell_type": "code",
   "execution_count": 21,
   "metadata": {},
   "outputs": [],
   "source": [
    "# Compilar a rede neural\n",
    "network.compile(loss=\"binary_crossentropy\", # Cross-entropy\n",
    "                optimizer=\"rmsprop\", # Root Mean Square Propagation\n",
    "                metrics=[\"accuracy\"]) # Acurácia com métrica de desempenho"
   ]
  },
  {
   "cell_type": "code",
   "execution_count": 22,
   "metadata": {},
   "outputs": [
    {
     "name": "stdout",
     "output_type": "stream",
     "text": [
      "Epoch 1/3\n",
      "Epoch 1/3\n",
      "250/250 [==============================] - 2s 4ms/step - loss: 0.4351 - accuracy: 0.8066 - val_loss: 0.3387 - val_accuracy: 0.8572\n",
      "Epoch 2/3\n",
      "250/250 [==============================] - 2s 4ms/step - loss: 0.4351 - accuracy: 0.8066 - val_loss: 0.3387 - val_accuracy: 0.8572\n",
      "Epoch 2/3\n",
      "250/250 [==============================] - 1s 3ms/step - loss: 0.3250 - accuracy: 0.8649 - val_loss: 0.3288 - val_accuracy: 0.8607\n",
      "Epoch 3/3\n",
      "250/250 [==============================] - 1s 3ms/step - loss: 0.3250 - accuracy: 0.8649 - val_loss: 0.3288 - val_accuracy: 0.8607\n",
      "Epoch 3/3\n",
      "250/250 [==============================] - 1s 4ms/step - loss: 0.3134 - accuracy: 0.8682 - val_loss: 0.3330 - val_accuracy: 0.8589\n",
      "250/250 [==============================] - 1s 4ms/step - loss: 0.3134 - accuracy: 0.8682 - val_loss: 0.3330 - val_accuracy: 0.8589\n"
     ]
    }
   ],
   "source": [
    "# Treinar a rede neural\n",
    "history = network.fit(features_train, # Atributos\n",
    "                      target_train, # Classes\n",
    "                      epochs=3, # Número de épocas\n",
    "                      verbose=1, # Imprimir informações a cada época\n",
    "                      batch_size=100, # Número de observações a cada mini-lote\n",
    "                      validation_data=(features_test, target_test)) # Dados de teste"
   ]
  }
 ],
 "metadata": {
  "kernelspec": {
   "display_name": "Python 3 (ipykernel)",
   "language": "python",
   "name": "python3"
  },
  "language_info": {
   "codemirror_mode": {
    "name": "ipython",
    "version": 3
   },
   "file_extension": ".py",
   "mimetype": "text/x-python",
   "name": "python",
   "nbconvert_exporter": "python",
   "pygments_lexer": "ipython3",
   "version": "3.9.13"
  }
 },
 "nbformat": 4,
 "nbformat_minor": 4
}
